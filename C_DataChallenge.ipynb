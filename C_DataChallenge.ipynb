{
  "nbformat": 4,
  "nbformat_minor": 0,
  "metadata": {
    "colab": {
      "name": "Crescendo_DataChallenge.ipynb",
      "provenance": [],
      "include_colab_link": true
    },
    "kernelspec": {
      "name": "python3",
      "display_name": "Python 3"
    }
  },
  "cells": [
    {
      "cell_type": "markdown",
      "metadata": {
        "id": "view-in-github",
        "colab_type": "text"
      },
      "source": [
        "<a href=\"https://colab.research.google.com/github/astrocrazy/Data-Challenges/blob/master/C_DataChallenge.ipynb\" target=\"_parent\"><img src=\"https://colab.research.google.com/assets/colab-badge.svg\" alt=\"Open In Colab\"/></a>"
      ]
    },
    {
      "cell_type": "markdown",
      "metadata": {
        "id": "HVhRETVlNrqQ",
        "colab_type": "text"
      },
      "source": [
        "This is a data challenge notebook done as a part of the C interview process. The data set is from pinnacle betting books for the Baseball games in 2016."
      ]
    },
    {
      "cell_type": "markdown",
      "metadata": {
        "id": "uxI44D3bNmft",
        "colab_type": "text"
      },
      "source": [
        "###Import Functions"
      ]
    },
    {
      "cell_type": "code",
      "metadata": {
        "id": "ONtwn_q17IJY",
        "colab_type": "code",
        "colab": {}
      },
      "source": [
        "from google.colab import files"
      ],
      "execution_count": 0,
      "outputs": []
    },
    {
      "cell_type": "code",
      "metadata": {
        "id": "ZH25bGwY7LUY",
        "colab_type": "code",
        "colab": {}
      },
      "source": [
        "import pandas as pd\n",
        "import numpy as np"
      ],
      "execution_count": 0,
      "outputs": []
    },
    {
      "cell_type": "code",
      "metadata": {
        "id": "dpy4eCou7Nb1",
        "colab_type": "code",
        "colab": {}
      },
      "source": [
        "import json\n",
        "from pandas.io.json import json_normalize #package for flattening json in pandas df"
      ],
      "execution_count": 0,
      "outputs": []
    },
    {
      "cell_type": "code",
      "metadata": {
        "id": "PWQimfoxAVdf",
        "colab_type": "code",
        "colab": {}
      },
      "source": [
        "import pandas_profiling as pp"
      ],
      "execution_count": 0,
      "outputs": []
    },
    {
      "cell_type": "code",
      "metadata": {
        "id": "u_wjqJt_xMsS",
        "colab_type": "code",
        "colab": {}
      },
      "source": [
        "from sklearn.preprocessing import LabelEncoder"
      ],
      "execution_count": 0,
      "outputs": []
    },
    {
      "cell_type": "code",
      "metadata": {
        "id": "qydEe_j38zjV",
        "colab_type": "code",
        "outputId": "ec423d9f-c5a5-407f-f46c-a031c218e0c6",
        "colab": {
          "base_uri": "https://localhost:8080/",
          "height": 34
        }
      },
      "source": [
        "import matplotlib.pyplot as plt\n",
        "import seaborn as sns\n",
        "%matplotlib inline\n",
        "%pylab inline"
      ],
      "execution_count": 0,
      "outputs": [
        {
          "output_type": "stream",
          "text": [
            "Populating the interactive namespace from numpy and matplotlib\n"
          ],
          "name": "stdout"
        }
      ]
    },
    {
      "cell_type": "code",
      "metadata": {
        "id": "kJM3aSYu0wKu",
        "colab_type": "code",
        "colab": {}
      },
      "source": [
        "from surebet import converter "
      ],
      "execution_count": 0,
      "outputs": []
    },
    {
      "cell_type": "code",
      "metadata": {
        "id": "KYg9cwUe7Qcc",
        "colab_type": "code",
        "outputId": "ed61404e-09b5-42bb-ff95-ea69054e31f6",
        "colab": {
          "resources": {
            "http://localhost:8080/nbextensions/google.colab/files.js": {
              "data": "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",
              "ok": true,
              "headers": [
                [
                  "content-type",
                  "application/javascript"
                ]
              ],
              "status": 200,
              "status_text": ""
            }
          },
          "base_uri": "https://localhost:8080/",
          "height": 74
        }
      },
      "source": [
        "file = files.upload()"
      ],
      "execution_count": 0,
      "outputs": [
        {
          "output_type": "display_data",
          "data": {
            "text/html": [
              "\n",
              "     <input type=\"file\" id=\"files-4b772f03-3ff0-43a8-b821-838b97947784\" name=\"files[]\" multiple disabled />\n",
              "     <output id=\"result-4b772f03-3ff0-43a8-b821-838b97947784\">\n",
              "      Upload widget is only available when the cell has been executed in the\n",
              "      current browser session. Please rerun this cell to enable.\n",
              "      </output>\n",
              "      <script src=\"/nbextensions/google.colab/files.js\"></script> "
            ],
            "text/plain": [
              "<IPython.core.display.HTML object>"
            ]
          },
          "metadata": {
            "tags": []
          }
        },
        {
          "output_type": "stream",
          "text": [
            "Saving MLB2016.json to MLB2016.json\n"
          ],
          "name": "stdout"
        }
      ]
    },
    {
      "cell_type": "code",
      "metadata": {
        "id": "p0qjptWR7THY",
        "colab_type": "code",
        "colab": {}
      },
      "source": [
        "df = pd.read_json('MLB2016.json',orient='column')"
      ],
      "execution_count": 0,
      "outputs": []
    },
    {
      "cell_type": "markdown",
      "metadata": {
        "id": "vuSuIK0JndtZ",
        "colab_type": "text"
      },
      "source": [
        "##EDA"
      ]
    },
    {
      "cell_type": "code",
      "metadata": {
        "id": "f9kvpLC173Ck",
        "colab_type": "code",
        "outputId": "b89ed980-ce1e-4f39-f91b-a8db4cafdbd2",
        "colab": {
          "base_uri": "https://localhost:8080/",
          "height": 394
        }
      },
      "source": [
        "df.head()"
      ],
      "execution_count": 0,
      "outputs": [
        {
          "output_type": "execute_result",
          "data": {
            "text/html": [
              "<div>\n",
              "<style scoped>\n",
              "    .dataframe tbody tr th:only-of-type {\n",
              "        vertical-align: middle;\n",
              "    }\n",
              "\n",
              "    .dataframe tbody tr th {\n",
              "        vertical-align: top;\n",
              "    }\n",
              "\n",
              "    .dataframe thead th {\n",
              "        text-align: right;\n",
              "    }\n",
              "</style>\n",
              "<table border=\"1\" class=\"dataframe\">\n",
              "  <thead>\n",
              "    <tr style=\"text-align: right;\">\n",
              "      <th></th>\n",
              "      <th>GameID</th>\n",
              "      <th>EventDateTimeUTC</th>\n",
              "      <th>EventDateTimeET</th>\n",
              "      <th>AwayTeam</th>\n",
              "      <th>HomeTeam</th>\n",
              "      <th>DoubleHeaderGame</th>\n",
              "      <th>AwayStartingPitcher</th>\n",
              "      <th>HomeStartingPicher</th>\n",
              "      <th>FinalScoreAway</th>\n",
              "      <th>FinalScoreHome</th>\n",
              "      <th>Lines</th>\n",
              "      <th>HomeStartingPitcher</th>\n",
              "    </tr>\n",
              "  </thead>\n",
              "  <tbody>\n",
              "    <tr>\n",
              "      <th>0</th>\n",
              "      <td>PIT201604030</td>\n",
              "      <td>1.459700e+09</td>\n",
              "      <td>1.459700e+09</td>\n",
              "      <td>St. Louis Cardinals</td>\n",
              "      <td>Pittsburgh Pirates</td>\n",
              "      <td>0</td>\n",
              "      <td>a wainwright</td>\n",
              "      <td>F LIRIANO</td>\n",
              "      <td>1</td>\n",
              "      <td>4</td>\n",
              "      <td>{'EnteredDateTimeUTC': [1459400000.0, 14594000...</td>\n",
              "      <td>f liriano</td>\n",
              "    </tr>\n",
              "    <tr>\n",
              "      <th>1</th>\n",
              "      <td>TBA201604030</td>\n",
              "      <td>1.459700e+09</td>\n",
              "      <td>1.459700e+09</td>\n",
              "      <td>Toronto Blue Jays</td>\n",
              "      <td>Tampa Bay Rays</td>\n",
              "      <td>0</td>\n",
              "      <td>m stroman</td>\n",
              "      <td>C ARCHER</td>\n",
              "      <td>5</td>\n",
              "      <td>3</td>\n",
              "      <td>{'EnteredDateTimeUTC': [1459400000.0, 14594000...</td>\n",
              "      <td>c archer</td>\n",
              "    </tr>\n",
              "    <tr>\n",
              "      <th>2</th>\n",
              "      <td>KCA201604030</td>\n",
              "      <td>1.459700e+09</td>\n",
              "      <td>1.459700e+09</td>\n",
              "      <td>New York Mets</td>\n",
              "      <td>Kansas City Royals</td>\n",
              "      <td>0</td>\n",
              "      <td>m harvey</td>\n",
              "      <td>E VOLQUEZ</td>\n",
              "      <td>3</td>\n",
              "      <td>4</td>\n",
              "      <td>{'EnteredDateTimeUTC': [1459400000.0, 14594000...</td>\n",
              "      <td>e volquez</td>\n",
              "    </tr>\n",
              "    <tr>\n",
              "      <th>3</th>\n",
              "      <td>MIL201604040</td>\n",
              "      <td>1.459800e+09</td>\n",
              "      <td>1.459800e+09</td>\n",
              "      <td>San Francisco Giants</td>\n",
              "      <td>Milwaukee Brewers</td>\n",
              "      <td>0</td>\n",
              "      <td>m bumgarner</td>\n",
              "      <td>W PERALTA</td>\n",
              "      <td>12</td>\n",
              "      <td>3</td>\n",
              "      <td>{'EnteredDateTimeUTC': [1459600000.0, 14596000...</td>\n",
              "      <td>w peralta</td>\n",
              "    </tr>\n",
              "    <tr>\n",
              "      <th>4</th>\n",
              "      <td>BAL201604040</td>\n",
              "      <td>1.459800e+09</td>\n",
              "      <td>1.459800e+09</td>\n",
              "      <td>Minnesota Twins</td>\n",
              "      <td>Baltimore Orioles</td>\n",
              "      <td>0</td>\n",
              "      <td>e santana</td>\n",
              "      <td>C TILLMAN</td>\n",
              "      <td>2</td>\n",
              "      <td>3</td>\n",
              "      <td>{'EnteredDateTimeUTC': [1459600000.0, 14596000...</td>\n",
              "      <td>c tillman</td>\n",
              "    </tr>\n",
              "  </tbody>\n",
              "</table>\n",
              "</div>"
            ],
            "text/plain": [
              "         GameID  ...  HomeStartingPitcher\n",
              "0  PIT201604030  ...            f liriano\n",
              "1  TBA201604030  ...             c archer\n",
              "2  KCA201604030  ...            e volquez\n",
              "3  MIL201604040  ...            w peralta\n",
              "4  BAL201604040  ...            c tillman\n",
              "\n",
              "[5 rows x 12 columns]"
            ]
          },
          "metadata": {
            "tags": []
          },
          "execution_count": 9
        }
      ]
    },
    {
      "cell_type": "code",
      "metadata": {
        "id": "zPbZtUws7_n4",
        "colab_type": "code",
        "outputId": "7a27a75f-9dcf-4258-af08-1cb1f4f7c665",
        "colab": {
          "base_uri": "https://localhost:8080/",
          "height": 34
        }
      },
      "source": [
        "type(df.Lines[0])"
      ],
      "execution_count": 0,
      "outputs": [
        {
          "output_type": "execute_result",
          "data": {
            "text/plain": [
              "dict"
            ]
          },
          "metadata": {
            "tags": []
          },
          "execution_count": 11
        }
      ]
    },
    {
      "cell_type": "code",
      "metadata": {
        "id": "UkK7L4Xe-iM2",
        "colab_type": "code",
        "outputId": "94f1f574-3801-40d3-9618-4c50a2f30041",
        "colab": {
          "base_uri": "https://localhost:8080/",
          "height": 306
        }
      },
      "source": [
        "df.info()"
      ],
      "execution_count": 0,
      "outputs": [
        {
          "output_type": "stream",
          "text": [
            "<class 'pandas.core.frame.DataFrame'>\n",
            "RangeIndex: 2462 entries, 0 to 2461\n",
            "Data columns (total 12 columns):\n",
            "GameID                 2462 non-null object\n",
            "EventDateTimeUTC       2462 non-null float64\n",
            "EventDateTimeET        2462 non-null float64\n",
            "AwayTeam               2462 non-null object\n",
            "HomeTeam               2462 non-null object\n",
            "DoubleHeaderGame       2462 non-null int64\n",
            "AwayStartingPitcher    2462 non-null object\n",
            "HomeStartingPicher     2462 non-null object\n",
            "FinalScoreAway         2462 non-null int64\n",
            "FinalScoreHome         2462 non-null int64\n",
            "Lines                  2462 non-null object\n",
            "HomeStartingPitcher    2462 non-null object\n",
            "dtypes: float64(2), int64(3), object(7)\n",
            "memory usage: 230.9+ KB\n"
          ],
          "name": "stdout"
        }
      ]
    },
    {
      "cell_type": "code",
      "metadata": {
        "id": "KuwF7gm2AE45",
        "colab_type": "code",
        "outputId": "bf9bab4e-e2d5-4ff7-becb-9529c22c6c0a",
        "colab": {
          "base_uri": "https://localhost:8080/",
          "height": 297
        }
      },
      "source": [
        "df.describe()"
      ],
      "execution_count": 0,
      "outputs": [
        {
          "output_type": "execute_result",
          "data": {
            "text/html": [
              "<div>\n",
              "<style scoped>\n",
              "    .dataframe tbody tr th:only-of-type {\n",
              "        vertical-align: middle;\n",
              "    }\n",
              "\n",
              "    .dataframe tbody tr th {\n",
              "        vertical-align: top;\n",
              "    }\n",
              "\n",
              "    .dataframe thead th {\n",
              "        text-align: right;\n",
              "    }\n",
              "</style>\n",
              "<table border=\"1\" class=\"dataframe\">\n",
              "  <thead>\n",
              "    <tr style=\"text-align: right;\">\n",
              "      <th></th>\n",
              "      <th>EventDateTimeUTC</th>\n",
              "      <th>EventDateTimeET</th>\n",
              "      <th>DoubleHeaderGame</th>\n",
              "      <th>FinalScoreAway</th>\n",
              "      <th>FinalScoreHome</th>\n",
              "    </tr>\n",
              "  </thead>\n",
              "  <tbody>\n",
              "    <tr>\n",
              "      <th>count</th>\n",
              "      <td>2.462000e+03</td>\n",
              "      <td>2.462000e+03</td>\n",
              "      <td>2462.000000</td>\n",
              "      <td>2462.000000</td>\n",
              "      <td>2462.000000</td>\n",
              "    </tr>\n",
              "    <tr>\n",
              "      <th>mean</th>\n",
              "      <td>1.467791e+09</td>\n",
              "      <td>1.467791e+09</td>\n",
              "      <td>0.017059</td>\n",
              "      <td>4.415922</td>\n",
              "      <td>4.517059</td>\n",
              "    </tr>\n",
              "    <tr>\n",
              "      <th>std</th>\n",
              "      <td>4.654121e+06</td>\n",
              "      <td>4.654121e+06</td>\n",
              "      <td>0.167787</td>\n",
              "      <td>3.104053</td>\n",
              "      <td>3.111812</td>\n",
              "    </tr>\n",
              "    <tr>\n",
              "      <th>min</th>\n",
              "      <td>1.459700e+09</td>\n",
              "      <td>1.459700e+09</td>\n",
              "      <td>0.000000</td>\n",
              "      <td>0.000000</td>\n",
              "      <td>0.000000</td>\n",
              "    </tr>\n",
              "    <tr>\n",
              "      <th>25%</th>\n",
              "      <td>1.463800e+09</td>\n",
              "      <td>1.463800e+09</td>\n",
              "      <td>0.000000</td>\n",
              "      <td>2.000000</td>\n",
              "      <td>2.000000</td>\n",
              "    </tr>\n",
              "    <tr>\n",
              "      <th>50%</th>\n",
              "      <td>1.467650e+09</td>\n",
              "      <td>1.467650e+09</td>\n",
              "      <td>0.000000</td>\n",
              "      <td>4.000000</td>\n",
              "      <td>4.000000</td>\n",
              "    </tr>\n",
              "    <tr>\n",
              "      <th>75%</th>\n",
              "      <td>1.471800e+09</td>\n",
              "      <td>1.471800e+09</td>\n",
              "      <td>0.000000</td>\n",
              "      <td>6.000000</td>\n",
              "      <td>6.000000</td>\n",
              "    </tr>\n",
              "    <tr>\n",
              "      <th>max</th>\n",
              "      <td>1.478100e+09</td>\n",
              "      <td>1.478100e+09</td>\n",
              "      <td>2.000000</td>\n",
              "      <td>21.000000</td>\n",
              "      <td>17.000000</td>\n",
              "    </tr>\n",
              "  </tbody>\n",
              "</table>\n",
              "</div>"
            ],
            "text/plain": [
              "       EventDateTimeUTC  EventDateTimeET  ...  FinalScoreAway  FinalScoreHome\n",
              "count      2.462000e+03     2.462000e+03  ...     2462.000000     2462.000000\n",
              "mean       1.467791e+09     1.467791e+09  ...        4.415922        4.517059\n",
              "std        4.654121e+06     4.654121e+06  ...        3.104053        3.111812\n",
              "min        1.459700e+09     1.459700e+09  ...        0.000000        0.000000\n",
              "25%        1.463800e+09     1.463800e+09  ...        2.000000        2.000000\n",
              "50%        1.467650e+09     1.467650e+09  ...        4.000000        4.000000\n",
              "75%        1.471800e+09     1.471800e+09  ...        6.000000        6.000000\n",
              "max        1.478100e+09     1.478100e+09  ...       21.000000       17.000000\n",
              "\n",
              "[8 rows x 5 columns]"
            ]
          },
          "metadata": {
            "tags": []
          },
          "execution_count": 11
        }
      ]
    },
    {
      "cell_type": "code",
      "metadata": {
        "id": "zi0iuIjHAJo1",
        "colab_type": "code",
        "colab": {}
      },
      "source": [
        "#Do some profiling EDA\n",
        "pfr = pp.ProfileReport(df)\n",
        "pfr.to_file(\"Pinnacle_data.html\")"
      ],
      "execution_count": 0,
      "outputs": []
    },
    {
      "cell_type": "markdown",
      "metadata": {
        "id": "IjvxLwqCtfRz",
        "colab_type": "text"
      },
      "source": [
        "Going to drop the Lines column since it is a dictionary by itself, which will be converted into a dataframe later."
      ]
    },
    {
      "cell_type": "code",
      "metadata": {
        "id": "jbcNKg7Ytlof",
        "colab_type": "code",
        "colab": {}
      },
      "source": [
        "lines_df = df[\"Lines\"]"
      ],
      "execution_count": 0,
      "outputs": []
    },
    {
      "cell_type": "code",
      "metadata": {
        "id": "Mo1rPyGJHMAv",
        "colab_type": "code",
        "colab": {}
      },
      "source": [
        "#convert the lines dictionary to a dataframe\n",
        "df_lines = pd.DataFrame(df['Lines'].values.tolist(), index=df.index)"
      ],
      "execution_count": 0,
      "outputs": []
    },
    {
      "cell_type": "code",
      "metadata": {
        "id": "hUoydRrlHcSp",
        "colab_type": "code",
        "outputId": "7aada967-e74d-42bf-971d-8400f77b63e0",
        "colab": {
          "base_uri": "https://localhost:8080/",
          "height": 34
        }
      },
      "source": [
        "df_lines.shape"
      ],
      "execution_count": 0,
      "outputs": [
        {
          "output_type": "execute_result",
          "data": {
            "text/plain": [
              "(2462, 10)"
            ]
          },
          "metadata": {
            "tags": []
          },
          "execution_count": 193
        }
      ]
    },
    {
      "cell_type": "code",
      "metadata": {
        "id": "FlaWhlhZHg1O",
        "colab_type": "code",
        "outputId": "9442a6d3-d693-45a8-bc44-992657779ef7",
        "colab": {
          "base_uri": "https://localhost:8080/",
          "height": 819
        }
      },
      "source": [
        "df_lines.head()"
      ],
      "execution_count": 0,
      "outputs": [
        {
          "output_type": "execute_result",
          "data": {
            "text/html": [
              "<div>\n",
              "<style scoped>\n",
              "    .dataframe tbody tr th:only-of-type {\n",
              "        vertical-align: middle;\n",
              "    }\n",
              "\n",
              "    .dataframe tbody tr th {\n",
              "        vertical-align: top;\n",
              "    }\n",
              "\n",
              "    .dataframe thead th {\n",
              "        text-align: right;\n",
              "    }\n",
              "</style>\n",
              "<table border=\"1\" class=\"dataframe\">\n",
              "  <thead>\n",
              "    <tr style=\"text-align: right;\">\n",
              "      <th></th>\n",
              "      <th>EnteredDateTimeET</th>\n",
              "      <th>EnteredDateTimeUTC</th>\n",
              "      <th>MoneyUS1</th>\n",
              "      <th>MoneyUS2</th>\n",
              "      <th>SpreadTeam1</th>\n",
              "      <th>SpreadUS1</th>\n",
              "      <th>SpreadUS2</th>\n",
              "      <th>TotalPoints</th>\n",
              "      <th>TotalUSOver</th>\n",
              "      <th>TotalUSUnder</th>\n",
              "    </tr>\n",
              "  </thead>\n",
              "  <tbody>\n",
              "    <tr>\n",
              "      <th>0</th>\n",
              "      <td>[1459400000.0, 1459400000.0, 1459400000.0, 145...</td>\n",
              "      <td>[1459400000.0, 1459400000.0, 1459400000.0, 145...</td>\n",
              "      <td>[-110, -110, -110, -110, -110, -110, -107, -10...</td>\n",
              "      <td>[102, 102, 102, 102, 102, 102, -101, -101, -10...</td>\n",
              "      <td>[None, None, None, None, None, None, None, Non...</td>\n",
              "      <td>[None, None, None, None, None, None, None, Non...</td>\n",
              "      <td>[None, None, None, None, None, None, None, Non...</td>\n",
              "      <td>[None, 6.5, 6.5, 6.5, 6.5, 6.5, 6.5, 6.5, 6.5,...</td>\n",
              "      <td>[None, 100, 106, 107, 109, 102, 102, 109, 109,...</td>\n",
              "      <td>[None, -110, -117, -118, -120, -113, -113, -12...</td>\n",
              "    </tr>\n",
              "    <tr>\n",
              "      <th>1</th>\n",
              "      <td>[1459400000.0, 1459400000.0, 1459400000.0, 145...</td>\n",
              "      <td>[1459400000.0, 1459400000.0, 1459400000.0, 145...</td>\n",
              "      <td>[-113, -113, -113, -113, -113, -113, -110, -11...</td>\n",
              "      <td>[104, 104, 104, 104, 104, 104, 102, 103, 103, ...</td>\n",
              "      <td>[None, None, None, None, None, None, None, Non...</td>\n",
              "      <td>[None, None, None, None, None, None, None, Non...</td>\n",
              "      <td>[None, None, None, None, None, None, None, Non...</td>\n",
              "      <td>[None, 7, 7, 7, 7, 7, 7, 7, 7, 7, 7, 7, 7, 7, ...</td>\n",
              "      <td>[None, -110, -110, -104, -102, 100, 100, 100, ...</td>\n",
              "      <td>[None, 100, 100, -106, -108, -110, -110, -110,...</td>\n",
              "    </tr>\n",
              "    <tr>\n",
              "      <th>2</th>\n",
              "      <td>[1459400000.0, 1459400000.0, 1459500000.0, 145...</td>\n",
              "      <td>[1459400000.0, 1459400000.0, 1459500000.0, 145...</td>\n",
              "      <td>[-115, -115, -115, -115, -113, -113, -113, -11...</td>\n",
              "      <td>[106, 106, 106, 106, 104, 104, 104, 107, 107, ...</td>\n",
              "      <td>[None, None, None, None, None, None, None, Non...</td>\n",
              "      <td>[None, None, None, None, None, None, None, Non...</td>\n",
              "      <td>[None, None, None, None, None, None, None, Non...</td>\n",
              "      <td>[None, 7, 7, 7, 7, 7, 7, 7, 7, 7, 7, 7, 7, 7, ...</td>\n",
              "      <td>[None, -115, -122, -119, -119, -120, -128, -12...</td>\n",
              "      <td>[None, 104, 111, 108, 108, 109, 116, 116, 118,...</td>\n",
              "    </tr>\n",
              "    <tr>\n",
              "      <th>3</th>\n",
              "      <td>[1459600000.0, 1459600000.0, 1459600000.0, 145...</td>\n",
              "      <td>[1459600000.0, 1459600000.0, 1459600000.0, 145...</td>\n",
              "      <td>[-180, None, -175, -175, -175, -175, -175, -17...</td>\n",
              "      <td>[165, None, 161, 161, 161, 161, 161, 156, 156,...</td>\n",
              "      <td>[None, None, None, None, None, None, None, Non...</td>\n",
              "      <td>[None, None, None, None, None, None, None, Non...</td>\n",
              "      <td>[None, None, None, None, None, None, None, Non...</td>\n",
              "      <td>[None, None, None, 7, 7, 7, 7, 7, 7, 7.5, 7.5,...</td>\n",
              "      <td>[None, None, None, -123, -129, -131, -133, -13...</td>\n",
              "      <td>[None, None, None, 111, 117, 119, 120, 120, 12...</td>\n",
              "    </tr>\n",
              "    <tr>\n",
              "      <th>4</th>\n",
              "      <td>[1459600000.0, 1459600000.0, 1459600000.0, 145...</td>\n",
              "      <td>[1459600000.0, 1459600000.0, 1459600000.0, 145...</td>\n",
              "      <td>[110, 110, 110, 110, 110, 110, 110, 110, 110, ...</td>\n",
              "      <td>[-119, -119, -119, -119, -119, -119, -119, -11...</td>\n",
              "      <td>[None, None, None, None, 1.5, 1.5, 1.5, 1.5, 1...</td>\n",
              "      <td>[None, None, None, None, -180, -180, -188, -18...</td>\n",
              "      <td>[None, None, None, None, 165, 165, 173, 173, 1...</td>\n",
              "      <td>[None, 8.5, 8.5, 8.5, 8.5, 8.5, 8.5, 8.5, 8.5,...</td>\n",
              "      <td>[None, -105, -110, -114, -114, -114, -114, -11...</td>\n",
              "      <td>[None, -105, 100, 103, 103, 103, 103, 103, 103...</td>\n",
              "    </tr>\n",
              "  </tbody>\n",
              "</table>\n",
              "</div>"
            ],
            "text/plain": [
              "                                   EnteredDateTimeET  ...                                       TotalUSUnder\n",
              "0  [1459400000.0, 1459400000.0, 1459400000.0, 145...  ...  [None, -110, -117, -118, -120, -113, -113, -12...\n",
              "1  [1459400000.0, 1459400000.0, 1459400000.0, 145...  ...  [None, 100, 100, -106, -108, -110, -110, -110,...\n",
              "2  [1459400000.0, 1459400000.0, 1459500000.0, 145...  ...  [None, 104, 111, 108, 108, 109, 116, 116, 118,...\n",
              "3  [1459600000.0, 1459600000.0, 1459600000.0, 145...  ...  [None, None, None, 111, 117, 119, 120, 120, 12...\n",
              "4  [1459600000.0, 1459600000.0, 1459600000.0, 145...  ...  [None, -105, 100, 103, 103, 103, 103, 103, 103...\n",
              "\n",
              "[5 rows x 10 columns]"
            ]
          },
          "metadata": {
            "tags": []
          },
          "execution_count": 35
        }
      ]
    },
    {
      "cell_type": "code",
      "metadata": {
        "id": "GlB-qhratr6W",
        "colab_type": "code",
        "colab": {}
      },
      "source": [
        "df = df.drop(\"Lines\",1)"
      ],
      "execution_count": 0,
      "outputs": []
    },
    {
      "cell_type": "code",
      "metadata": {
        "id": "2CanAWGTxTqX",
        "colab_type": "code",
        "colab": {}
      },
      "source": [
        "#Encoding the team names for ease of access\n",
        "le = LabelEncoder()\n",
        "df[\"HomeTeam_encoded\"] = le.fit_transform(df[\"HomeTeam\"])\n",
        "df[\"AwayTeam_encoded\"] = le.fit_transform(df[\"AwayTeam\"])"
      ],
      "execution_count": 0,
      "outputs": []
    },
    {
      "cell_type": "code",
      "metadata": {
        "id": "ln4XLyDJxdKT",
        "colab_type": "code",
        "outputId": "4412cef3-31c7-47f3-c1db-afa63ffbf95c",
        "colab": {
          "base_uri": "https://localhost:8080/",
          "height": 204
        }
      },
      "source": [
        "le.classes_"
      ],
      "execution_count": 0,
      "outputs": [
        {
          "output_type": "execute_result",
          "data": {
            "text/plain": [
              "array(['American League', 'Arizona Diamondbacks', 'Atlanta Braves',\n",
              "       'Baltimore Orioles', 'Boston Red Sox', 'Chicago Cubs',\n",
              "       'Chicago White Sox', 'Cincinnati Reds', 'Cleveland Indians',\n",
              "       'Colorado Rockies', 'Detroit Tigers', 'Houston Astros',\n",
              "       'Kansas City Royals', 'Los Angeles Angels of Anaheim',\n",
              "       'Los Angeles Dodgers', 'Miami Marlins', 'Milwaukee Brewers',\n",
              "       'Minnesota Twins', 'New York Mets', 'New York Yankees',\n",
              "       'Oakland Athletics', 'Philadelphia Phillies', 'Pittsburgh Pirates',\n",
              "       'San Diego Padres', 'San Francisco Giants', 'Seattle Mariners',\n",
              "       'St. Louis Cardinals', 'Tampa Bay Rays', 'Texas Rangers',\n",
              "       'Toronto Blue Jays', 'Washington Nationals'], dtype=object)"
            ]
          },
          "metadata": {
            "tags": []
          },
          "execution_count": 198
        }
      ]
    },
    {
      "cell_type": "markdown",
      "metadata": {
        "id": "Hwj4rpl2njJc",
        "colab_type": "text"
      },
      "source": [
        "## Questions"
      ]
    },
    {
      "cell_type": "markdown",
      "metadata": {
        "id": "gAf0rTJn7oji",
        "colab_type": "text"
      },
      "source": [
        "###Q1"
      ]
    },
    {
      "cell_type": "markdown",
      "metadata": {
        "id": "laI300mUnTEB",
        "colab_type": "text"
      },
      "source": [
        "Q1. Which team(s) played in the most double headers? (A double header consists of playing two games in one single day.)\n",
        "\n",
        "Hint: The DoubleHeaderGame field can be used to determine which game of the double header each game is. 0 means a normal game (no double header that day), 1 means first game of double header, 2 means second game of double header."
      ]
    },
    {
      "cell_type": "code",
      "metadata": {
        "id": "c0v3vXuR3KGD",
        "colab_type": "code",
        "outputId": "63cee35e-b879-4dab-c769-28a5cee5950d",
        "colab": {
          "base_uri": "https://localhost:8080/",
          "height": 483
        }
      },
      "source": [
        "df_doubles = df.drop([\"HomeTeam\",\"AwayTeam\",\"AwayStartingPitcher\",\"HomeStartingPicher\",\"FinalScoreAway\",\"FinalScoreHome\",\"HomeStartingPitcher\",\"GameID\",\"EventDateTimeUTC\",\"EventDateTimeET\"],1).nlargest(1, 'DoubleHeaderGame', keep='all')\n",
        "df_doubles"
      ],
      "execution_count": 0,
      "outputs": [
        {
          "output_type": "execute_result",
          "data": {
            "text/html": [
              "<div>\n",
              "<style scoped>\n",
              "    .dataframe tbody tr th:only-of-type {\n",
              "        vertical-align: middle;\n",
              "    }\n",
              "\n",
              "    .dataframe tbody tr th {\n",
              "        vertical-align: top;\n",
              "    }\n",
              "\n",
              "    .dataframe thead th {\n",
              "        text-align: right;\n",
              "    }\n",
              "</style>\n",
              "<table border=\"1\" class=\"dataframe\">\n",
              "  <thead>\n",
              "    <tr style=\"text-align: right;\">\n",
              "      <th></th>\n",
              "      <th>DoubleHeaderGame</th>\n",
              "      <th>HomeTeam_encoded</th>\n",
              "      <th>AwayTeam_encoded</th>\n",
              "    </tr>\n",
              "  </thead>\n",
              "  <tbody>\n",
              "    <tr>\n",
              "      <th>442</th>\n",
              "      <td>2</td>\n",
              "      <td>2</td>\n",
              "      <td>20</td>\n",
              "    </tr>\n",
              "    <tr>\n",
              "      <th>503</th>\n",
              "      <td>2</td>\n",
              "      <td>4</td>\n",
              "      <td>23</td>\n",
              "    </tr>\n",
              "    <tr>\n",
              "      <th>537</th>\n",
              "      <td>2</td>\n",
              "      <td>30</td>\n",
              "      <td>15</td>\n",
              "    </tr>\n",
              "    <tr>\n",
              "      <th>594</th>\n",
              "      <td>2</td>\n",
              "      <td>11</td>\n",
              "      <td>4</td>\n",
              "    </tr>\n",
              "    <tr>\n",
              "      <th>662</th>\n",
              "      <td>2</td>\n",
              "      <td>5</td>\n",
              "      <td>8</td>\n",
              "    </tr>\n",
              "    <tr>\n",
              "      <th>864</th>\n",
              "      <td>2</td>\n",
              "      <td>22</td>\n",
              "      <td>18</td>\n",
              "    </tr>\n",
              "    <tr>\n",
              "      <th>1110</th>\n",
              "      <td>2</td>\n",
              "      <td>2</td>\n",
              "      <td>27</td>\n",
              "    </tr>\n",
              "    <tr>\n",
              "      <th>1416</th>\n",
              "      <td>2</td>\n",
              "      <td>26</td>\n",
              "      <td>23</td>\n",
              "    </tr>\n",
              "    <tr>\n",
              "      <th>1490</th>\n",
              "      <td>2</td>\n",
              "      <td>18</td>\n",
              "      <td>26</td>\n",
              "    </tr>\n",
              "    <tr>\n",
              "      <th>1706</th>\n",
              "      <td>2</td>\n",
              "      <td>16</td>\n",
              "      <td>11</td>\n",
              "    </tr>\n",
              "    <tr>\n",
              "      <th>1775</th>\n",
              "      <td>2</td>\n",
              "      <td>4</td>\n",
              "      <td>16</td>\n",
              "    </tr>\n",
              "    <tr>\n",
              "      <th>1988</th>\n",
              "      <td>2</td>\n",
              "      <td>8</td>\n",
              "      <td>14</td>\n",
              "    </tr>\n",
              "    <tr>\n",
              "      <th>2211</th>\n",
              "      <td>2</td>\n",
              "      <td>6</td>\n",
              "      <td>22</td>\n",
              "    </tr>\n",
              "    <tr>\n",
              "      <th>2283</th>\n",
              "      <td>2</td>\n",
              "      <td>16</td>\n",
              "      <td>10</td>\n",
              "    </tr>\n",
              "  </tbody>\n",
              "</table>\n",
              "</div>"
            ],
            "text/plain": [
              "      DoubleHeaderGame  HomeTeam_encoded  AwayTeam_encoded\n",
              "442                  2                 2                20\n",
              "503                  2                 4                23\n",
              "537                  2                30                15\n",
              "594                  2                11                 4\n",
              "662                  2                 5                 8\n",
              "864                  2                22                18\n",
              "1110                 2                 2                27\n",
              "1416                 2                26                23\n",
              "1490                 2                18                26\n",
              "1706                 2                16                11\n",
              "1775                 2                 4                16\n",
              "1988                 2                 8                14\n",
              "2211                 2                 6                22\n",
              "2283                 2                16                10"
            ]
          },
          "metadata": {
            "tags": []
          },
          "execution_count": 120
        }
      ]
    },
    {
      "cell_type": "code",
      "metadata": {
        "id": "2D9Vx4Pv4xPU",
        "colab_type": "code",
        "outputId": "067a0353-58ae-477c-cb45-9444644bc65f",
        "colab": {
          "base_uri": "https://localhost:8080/",
          "height": 442
        }
      },
      "source": [
        "print(df_doubles[\"HomeTeam_encoded\"].value_counts(),df_doubles[\"AwayTeam_encoded\"].value_counts())\n"
      ],
      "execution_count": 0,
      "outputs": [
        {
          "output_type": "stream",
          "text": [
            "4     2\n",
            "2     2\n",
            "16    2\n",
            "30    1\n",
            "11    1\n",
            "26    1\n",
            "8     1\n",
            "18    1\n",
            "6     1\n",
            "22    1\n",
            "5     1\n",
            "Name: HomeTeam_encoded, dtype: int64 23    2\n",
            "27    1\n",
            "26    1\n",
            "22    1\n",
            "20    1\n",
            "18    1\n",
            "16    1\n",
            "15    1\n",
            "14    1\n",
            "11    1\n",
            "10    1\n",
            "8     1\n",
            "4     1\n",
            "Name: AwayTeam_encoded, dtype: int64\n"
          ],
          "name": "stdout"
        }
      ]
    },
    {
      "cell_type": "code",
      "metadata": {
        "id": "TYJcl15jAH8s",
        "colab_type": "code",
        "outputId": "e62721be-06e8-4b08-f4c9-f3ef3276195f",
        "colab": {
          "base_uri": "https://localhost:8080/",
          "height": 576
        }
      },
      "source": [
        "df_doubles.apply(pd.Series.value_counts).drop(\"DoubleHeaderGame\",1)"
      ],
      "execution_count": 0,
      "outputs": [
        {
          "output_type": "execute_result",
          "data": {
            "text/html": [
              "<div>\n",
              "<style scoped>\n",
              "    .dataframe tbody tr th:only-of-type {\n",
              "        vertical-align: middle;\n",
              "    }\n",
              "\n",
              "    .dataframe tbody tr th {\n",
              "        vertical-align: top;\n",
              "    }\n",
              "\n",
              "    .dataframe thead th {\n",
              "        text-align: right;\n",
              "    }\n",
              "</style>\n",
              "<table border=\"1\" class=\"dataframe\">\n",
              "  <thead>\n",
              "    <tr style=\"text-align: right;\">\n",
              "      <th></th>\n",
              "      <th>HomeTeam_encoded</th>\n",
              "      <th>AwayTeam_encoded</th>\n",
              "    </tr>\n",
              "  </thead>\n",
              "  <tbody>\n",
              "    <tr>\n",
              "      <th>2</th>\n",
              "      <td>2.0</td>\n",
              "      <td>NaN</td>\n",
              "    </tr>\n",
              "    <tr>\n",
              "      <th>4</th>\n",
              "      <td>2.0</td>\n",
              "      <td>1.0</td>\n",
              "    </tr>\n",
              "    <tr>\n",
              "      <th>5</th>\n",
              "      <td>1.0</td>\n",
              "      <td>NaN</td>\n",
              "    </tr>\n",
              "    <tr>\n",
              "      <th>6</th>\n",
              "      <td>1.0</td>\n",
              "      <td>NaN</td>\n",
              "    </tr>\n",
              "    <tr>\n",
              "      <th>8</th>\n",
              "      <td>1.0</td>\n",
              "      <td>1.0</td>\n",
              "    </tr>\n",
              "    <tr>\n",
              "      <th>10</th>\n",
              "      <td>NaN</td>\n",
              "      <td>1.0</td>\n",
              "    </tr>\n",
              "    <tr>\n",
              "      <th>11</th>\n",
              "      <td>1.0</td>\n",
              "      <td>1.0</td>\n",
              "    </tr>\n",
              "    <tr>\n",
              "      <th>14</th>\n",
              "      <td>NaN</td>\n",
              "      <td>1.0</td>\n",
              "    </tr>\n",
              "    <tr>\n",
              "      <th>15</th>\n",
              "      <td>NaN</td>\n",
              "      <td>1.0</td>\n",
              "    </tr>\n",
              "    <tr>\n",
              "      <th>16</th>\n",
              "      <td>2.0</td>\n",
              "      <td>1.0</td>\n",
              "    </tr>\n",
              "    <tr>\n",
              "      <th>18</th>\n",
              "      <td>1.0</td>\n",
              "      <td>1.0</td>\n",
              "    </tr>\n",
              "    <tr>\n",
              "      <th>20</th>\n",
              "      <td>NaN</td>\n",
              "      <td>1.0</td>\n",
              "    </tr>\n",
              "    <tr>\n",
              "      <th>22</th>\n",
              "      <td>1.0</td>\n",
              "      <td>1.0</td>\n",
              "    </tr>\n",
              "    <tr>\n",
              "      <th>23</th>\n",
              "      <td>NaN</td>\n",
              "      <td>2.0</td>\n",
              "    </tr>\n",
              "    <tr>\n",
              "      <th>26</th>\n",
              "      <td>1.0</td>\n",
              "      <td>1.0</td>\n",
              "    </tr>\n",
              "    <tr>\n",
              "      <th>27</th>\n",
              "      <td>NaN</td>\n",
              "      <td>1.0</td>\n",
              "    </tr>\n",
              "    <tr>\n",
              "      <th>30</th>\n",
              "      <td>1.0</td>\n",
              "      <td>NaN</td>\n",
              "    </tr>\n",
              "  </tbody>\n",
              "</table>\n",
              "</div>"
            ],
            "text/plain": [
              "    HomeTeam_encoded  AwayTeam_encoded\n",
              "2                2.0               NaN\n",
              "4                2.0               1.0\n",
              "5                1.0               NaN\n",
              "6                1.0               NaN\n",
              "8                1.0               1.0\n",
              "10               NaN               1.0\n",
              "11               1.0               1.0\n",
              "14               NaN               1.0\n",
              "15               NaN               1.0\n",
              "16               2.0               1.0\n",
              "18               1.0               1.0\n",
              "20               NaN               1.0\n",
              "22               1.0               1.0\n",
              "23               NaN               2.0\n",
              "26               1.0               1.0\n",
              "27               NaN               1.0\n",
              "30               1.0               NaN"
            ]
          },
          "metadata": {
            "tags": []
          },
          "execution_count": 127
        }
      ]
    },
    {
      "cell_type": "code",
      "metadata": {
        "id": "0rnVqSyLwNKj",
        "colab_type": "code",
        "outputId": "592443d9-ea69-4534-a021-d40cc8e7f1ef",
        "colab": {
          "base_uri": "https://localhost:8080/",
          "height": 607
        }
      },
      "source": [
        "pd.crosstab(**df_doubles.melt(var_name='columns', value_name='index'))"
      ],
      "execution_count": 0,
      "outputs": [
        {
          "output_type": "execute_result",
          "data": {
            "text/html": [
              "<div>\n",
              "<style scoped>\n",
              "    .dataframe tbody tr th:only-of-type {\n",
              "        vertical-align: middle;\n",
              "    }\n",
              "\n",
              "    .dataframe tbody tr th {\n",
              "        vertical-align: top;\n",
              "    }\n",
              "\n",
              "    .dataframe thead th {\n",
              "        text-align: right;\n",
              "    }\n",
              "</style>\n",
              "<table border=\"1\" class=\"dataframe\">\n",
              "  <thead>\n",
              "    <tr style=\"text-align: right;\">\n",
              "      <th>columns</th>\n",
              "      <th>AwayTeam_encoded</th>\n",
              "      <th>DoubleHeaderGame</th>\n",
              "      <th>HomeTeam_encoded</th>\n",
              "    </tr>\n",
              "    <tr>\n",
              "      <th>index</th>\n",
              "      <th></th>\n",
              "      <th></th>\n",
              "      <th></th>\n",
              "    </tr>\n",
              "  </thead>\n",
              "  <tbody>\n",
              "    <tr>\n",
              "      <th>2</th>\n",
              "      <td>0</td>\n",
              "      <td>14</td>\n",
              "      <td>2</td>\n",
              "    </tr>\n",
              "    <tr>\n",
              "      <th>4</th>\n",
              "      <td>1</td>\n",
              "      <td>0</td>\n",
              "      <td>2</td>\n",
              "    </tr>\n",
              "    <tr>\n",
              "      <th>5</th>\n",
              "      <td>0</td>\n",
              "      <td>0</td>\n",
              "      <td>1</td>\n",
              "    </tr>\n",
              "    <tr>\n",
              "      <th>6</th>\n",
              "      <td>0</td>\n",
              "      <td>0</td>\n",
              "      <td>1</td>\n",
              "    </tr>\n",
              "    <tr>\n",
              "      <th>8</th>\n",
              "      <td>1</td>\n",
              "      <td>0</td>\n",
              "      <td>1</td>\n",
              "    </tr>\n",
              "    <tr>\n",
              "      <th>10</th>\n",
              "      <td>1</td>\n",
              "      <td>0</td>\n",
              "      <td>0</td>\n",
              "    </tr>\n",
              "    <tr>\n",
              "      <th>11</th>\n",
              "      <td>1</td>\n",
              "      <td>0</td>\n",
              "      <td>1</td>\n",
              "    </tr>\n",
              "    <tr>\n",
              "      <th>14</th>\n",
              "      <td>1</td>\n",
              "      <td>0</td>\n",
              "      <td>0</td>\n",
              "    </tr>\n",
              "    <tr>\n",
              "      <th>15</th>\n",
              "      <td>1</td>\n",
              "      <td>0</td>\n",
              "      <td>0</td>\n",
              "    </tr>\n",
              "    <tr>\n",
              "      <th>16</th>\n",
              "      <td>1</td>\n",
              "      <td>0</td>\n",
              "      <td>2</td>\n",
              "    </tr>\n",
              "    <tr>\n",
              "      <th>18</th>\n",
              "      <td>1</td>\n",
              "      <td>0</td>\n",
              "      <td>1</td>\n",
              "    </tr>\n",
              "    <tr>\n",
              "      <th>20</th>\n",
              "      <td>1</td>\n",
              "      <td>0</td>\n",
              "      <td>0</td>\n",
              "    </tr>\n",
              "    <tr>\n",
              "      <th>22</th>\n",
              "      <td>1</td>\n",
              "      <td>0</td>\n",
              "      <td>1</td>\n",
              "    </tr>\n",
              "    <tr>\n",
              "      <th>23</th>\n",
              "      <td>2</td>\n",
              "      <td>0</td>\n",
              "      <td>0</td>\n",
              "    </tr>\n",
              "    <tr>\n",
              "      <th>26</th>\n",
              "      <td>1</td>\n",
              "      <td>0</td>\n",
              "      <td>1</td>\n",
              "    </tr>\n",
              "    <tr>\n",
              "      <th>27</th>\n",
              "      <td>1</td>\n",
              "      <td>0</td>\n",
              "      <td>0</td>\n",
              "    </tr>\n",
              "    <tr>\n",
              "      <th>30</th>\n",
              "      <td>0</td>\n",
              "      <td>0</td>\n",
              "      <td>1</td>\n",
              "    </tr>\n",
              "  </tbody>\n",
              "</table>\n",
              "</div>"
            ],
            "text/plain": [
              "columns  AwayTeam_encoded  DoubleHeaderGame  HomeTeam_encoded\n",
              "index                                                        \n",
              "2                       0                14                 2\n",
              "4                       1                 0                 2\n",
              "5                       0                 0                 1\n",
              "6                       0                 0                 1\n",
              "8                       1                 0                 1\n",
              "10                      1                 0                 0\n",
              "11                      1                 0                 1\n",
              "14                      1                 0                 0\n",
              "15                      1                 0                 0\n",
              "16                      1                 0                 2\n",
              "18                      1                 0                 1\n",
              "20                      1                 0                 0\n",
              "22                      1                 0                 1\n",
              "23                      2                 0                 0\n",
              "26                      1                 0                 1\n",
              "27                      1                 0                 0\n",
              "30                      0                 0                 1"
            ]
          },
          "metadata": {
            "tags": []
          },
          "execution_count": 123
        }
      ]
    },
    {
      "cell_type": "code",
      "metadata": {
        "id": "wGNT7vinrrS3",
        "colab_type": "code",
        "outputId": "2759ff82-7539-4769-9cf6-32e010b465fd",
        "colab": {
          "base_uri": "https://localhost:8080/",
          "height": 576
        }
      },
      "source": [
        "df_doubles.apply(pd.value_counts)"
      ],
      "execution_count": 0,
      "outputs": [
        {
          "output_type": "execute_result",
          "data": {
            "text/html": [
              "<div>\n",
              "<style scoped>\n",
              "    .dataframe tbody tr th:only-of-type {\n",
              "        vertical-align: middle;\n",
              "    }\n",
              "\n",
              "    .dataframe tbody tr th {\n",
              "        vertical-align: top;\n",
              "    }\n",
              "\n",
              "    .dataframe thead th {\n",
              "        text-align: right;\n",
              "    }\n",
              "</style>\n",
              "<table border=\"1\" class=\"dataframe\">\n",
              "  <thead>\n",
              "    <tr style=\"text-align: right;\">\n",
              "      <th></th>\n",
              "      <th>DoubleHeaderGame</th>\n",
              "      <th>HomeTeam_encoded</th>\n",
              "      <th>AwayTeam_encoded</th>\n",
              "    </tr>\n",
              "  </thead>\n",
              "  <tbody>\n",
              "    <tr>\n",
              "      <th>2</th>\n",
              "      <td>14.0</td>\n",
              "      <td>2.0</td>\n",
              "      <td>NaN</td>\n",
              "    </tr>\n",
              "    <tr>\n",
              "      <th>4</th>\n",
              "      <td>NaN</td>\n",
              "      <td>2.0</td>\n",
              "      <td>1.0</td>\n",
              "    </tr>\n",
              "    <tr>\n",
              "      <th>5</th>\n",
              "      <td>NaN</td>\n",
              "      <td>1.0</td>\n",
              "      <td>NaN</td>\n",
              "    </tr>\n",
              "    <tr>\n",
              "      <th>6</th>\n",
              "      <td>NaN</td>\n",
              "      <td>1.0</td>\n",
              "      <td>NaN</td>\n",
              "    </tr>\n",
              "    <tr>\n",
              "      <th>8</th>\n",
              "      <td>NaN</td>\n",
              "      <td>1.0</td>\n",
              "      <td>1.0</td>\n",
              "    </tr>\n",
              "    <tr>\n",
              "      <th>10</th>\n",
              "      <td>NaN</td>\n",
              "      <td>NaN</td>\n",
              "      <td>1.0</td>\n",
              "    </tr>\n",
              "    <tr>\n",
              "      <th>11</th>\n",
              "      <td>NaN</td>\n",
              "      <td>1.0</td>\n",
              "      <td>1.0</td>\n",
              "    </tr>\n",
              "    <tr>\n",
              "      <th>14</th>\n",
              "      <td>NaN</td>\n",
              "      <td>NaN</td>\n",
              "      <td>1.0</td>\n",
              "    </tr>\n",
              "    <tr>\n",
              "      <th>15</th>\n",
              "      <td>NaN</td>\n",
              "      <td>NaN</td>\n",
              "      <td>1.0</td>\n",
              "    </tr>\n",
              "    <tr>\n",
              "      <th>16</th>\n",
              "      <td>NaN</td>\n",
              "      <td>2.0</td>\n",
              "      <td>1.0</td>\n",
              "    </tr>\n",
              "    <tr>\n",
              "      <th>18</th>\n",
              "      <td>NaN</td>\n",
              "      <td>1.0</td>\n",
              "      <td>1.0</td>\n",
              "    </tr>\n",
              "    <tr>\n",
              "      <th>20</th>\n",
              "      <td>NaN</td>\n",
              "      <td>NaN</td>\n",
              "      <td>1.0</td>\n",
              "    </tr>\n",
              "    <tr>\n",
              "      <th>22</th>\n",
              "      <td>NaN</td>\n",
              "      <td>1.0</td>\n",
              "      <td>1.0</td>\n",
              "    </tr>\n",
              "    <tr>\n",
              "      <th>23</th>\n",
              "      <td>NaN</td>\n",
              "      <td>NaN</td>\n",
              "      <td>2.0</td>\n",
              "    </tr>\n",
              "    <tr>\n",
              "      <th>26</th>\n",
              "      <td>NaN</td>\n",
              "      <td>1.0</td>\n",
              "      <td>1.0</td>\n",
              "    </tr>\n",
              "    <tr>\n",
              "      <th>27</th>\n",
              "      <td>NaN</td>\n",
              "      <td>NaN</td>\n",
              "      <td>1.0</td>\n",
              "    </tr>\n",
              "    <tr>\n",
              "      <th>30</th>\n",
              "      <td>NaN</td>\n",
              "      <td>1.0</td>\n",
              "      <td>NaN</td>\n",
              "    </tr>\n",
              "  </tbody>\n",
              "</table>\n",
              "</div>"
            ],
            "text/plain": [
              "    DoubleHeaderGame  HomeTeam_encoded  AwayTeam_encoded\n",
              "2               14.0               2.0               NaN\n",
              "4                NaN               2.0               1.0\n",
              "5                NaN               1.0               NaN\n",
              "6                NaN               1.0               NaN\n",
              "8                NaN               1.0               1.0\n",
              "10               NaN               NaN               1.0\n",
              "11               NaN               1.0               1.0\n",
              "14               NaN               NaN               1.0\n",
              "15               NaN               NaN               1.0\n",
              "16               NaN               2.0               1.0\n",
              "18               NaN               1.0               1.0\n",
              "20               NaN               NaN               1.0\n",
              "22               NaN               1.0               1.0\n",
              "23               NaN               NaN               2.0\n",
              "26               NaN               1.0               1.0\n",
              "27               NaN               NaN               1.0\n",
              "30               NaN               1.0               NaN"
            ]
          },
          "metadata": {
            "tags": []
          },
          "execution_count": 124
        }
      ]
    },
    {
      "cell_type": "code",
      "metadata": {
        "id": "Dr9TZ2hgBnSZ",
        "colab_type": "code",
        "outputId": "83742309-3d1e-4f78-8177-f9d06e31445f",
        "colab": {
          "base_uri": "https://localhost:8080/",
          "height": 34
        }
      },
      "source": [
        "print(le.classes_[3] +\" ,\"+\n",
        "      le.classes_[5] +\", \"+\n",
        "      le.classes_[17] +\", \"+\n",
        "      le.classes_[24])"
      ],
      "execution_count": 0,
      "outputs": [
        {
          "output_type": "stream",
          "text": [
            "Baltimore Orioles ,Chicago Cubs, Minnesota Twins, San Francisco Giants\n"
          ],
          "name": "stdout"
        }
      ]
    },
    {
      "cell_type": "code",
      "metadata": {
        "id": "g1VbKEiUC14q",
        "colab_type": "code",
        "outputId": "9d9a55db-89c1-4864-b1b9-5b1436d64c38",
        "colab": {
          "base_uri": "https://localhost:8080/",
          "height": 255
        }
      },
      "source": [
        "df.iloc[442]"
      ],
      "execution_count": 0,
      "outputs": [
        {
          "output_type": "execute_result",
          "data": {
            "text/plain": [
              "GameID                      BAL201605072\n",
              "EventDateTimeUTC              1.4627e+09\n",
              "EventDateTimeET               1.4627e+09\n",
              "AwayTeam               Oakland Athletics\n",
              "HomeTeam               Baltimore Orioles\n",
              "DoubleHeaderGame                       2\n",
              "AwayStartingPitcher               j hahn\n",
              "HomeStartingPicher             U JIMENEZ\n",
              "FinalScoreAway                         2\n",
              "FinalScoreHome                         5\n",
              "HomeStartingPitcher            u jimenez\n",
              "HomeTeam_encoded                       2\n",
              "AwayTeam_encoded                      20\n",
              "Name: 442, dtype: object"
            ]
          },
          "metadata": {
            "tags": []
          },
          "execution_count": 136
        }
      ]
    },
    {
      "cell_type": "markdown",
      "metadata": {
        "id": "eQNpoXqJBks5",
        "colab_type": "text"
      },
      "source": [
        "In conclusion, the teams Baltimore Orioles ,Chicago Cubs, Minnesota Twins, San Francisco Giants are the maximum double game playing teams"
      ]
    },
    {
      "cell_type": "markdown",
      "metadata": {
        "id": "7sYYzlvr7r-n",
        "colab_type": "text"
      },
      "source": [
        "###Q2"
      ]
    },
    {
      "cell_type": "markdown",
      "metadata": {
        "id": "jH31Ln7B7vDO",
        "colab_type": "text"
      },
      "source": [
        "What was the final win percentage of the Chicago Cubs at the end of 2016?\n",
        "\n",
        "Hint: Make sure to account for any potential ties caused by bad weather!"
      ]
    },
    {
      "cell_type": "code",
      "metadata": {
        "id": "OX5x3HWd7tNO",
        "colab_type": "code",
        "colab": {}
      },
      "source": [
        "df['Date'] = pd.to_datetime(df['EventDateTimeUTC'],unit='s').dt.date"
      ],
      "execution_count": 0,
      "outputs": []
    },
    {
      "cell_type": "code",
      "metadata": {
        "id": "V28c68Q_kNhA",
        "colab_type": "code",
        "colab": {}
      },
      "source": [
        "df['Time'] = pd.to_datetime(df['EventDateTimeUTC'],unit='s').dt.time"
      ],
      "execution_count": 0,
      "outputs": []
    },
    {
      "cell_type": "code",
      "metadata": {
        "id": "j1xV2hl_kWQ1",
        "colab_type": "code",
        "outputId": "f869f63f-bf76-411c-ec36-ff5d5c93c2b9",
        "colab": {
          "base_uri": "https://localhost:8080/",
          "height": 343
        }
      },
      "source": [
        "df.head()"
      ],
      "execution_count": 0,
      "outputs": [
        {
          "output_type": "execute_result",
          "data": {
            "text/html": [
              "<div>\n",
              "<style scoped>\n",
              "    .dataframe tbody tr th:only-of-type {\n",
              "        vertical-align: middle;\n",
              "    }\n",
              "\n",
              "    .dataframe tbody tr th {\n",
              "        vertical-align: top;\n",
              "    }\n",
              "\n",
              "    .dataframe thead th {\n",
              "        text-align: right;\n",
              "    }\n",
              "</style>\n",
              "<table border=\"1\" class=\"dataframe\">\n",
              "  <thead>\n",
              "    <tr style=\"text-align: right;\">\n",
              "      <th></th>\n",
              "      <th>GameID</th>\n",
              "      <th>EventDateTimeUTC</th>\n",
              "      <th>EventDateTimeET</th>\n",
              "      <th>AwayTeam</th>\n",
              "      <th>HomeTeam</th>\n",
              "      <th>DoubleHeaderGame</th>\n",
              "      <th>AwayStartingPitcher</th>\n",
              "      <th>HomeStartingPicher</th>\n",
              "      <th>FinalScoreAway</th>\n",
              "      <th>FinalScoreHome</th>\n",
              "      <th>HomeStartingPitcher</th>\n",
              "      <th>HomeTeam_encoded</th>\n",
              "      <th>AwayTeam_encoded</th>\n",
              "      <th>Date</th>\n",
              "      <th>Time</th>\n",
              "    </tr>\n",
              "  </thead>\n",
              "  <tbody>\n",
              "    <tr>\n",
              "      <th>0</th>\n",
              "      <td>PIT201604030</td>\n",
              "      <td>1.459700e+09</td>\n",
              "      <td>1.459700e+09</td>\n",
              "      <td>St. Louis Cardinals</td>\n",
              "      <td>Pittsburgh Pirates</td>\n",
              "      <td>0</td>\n",
              "      <td>a wainwright</td>\n",
              "      <td>F LIRIANO</td>\n",
              "      <td>1</td>\n",
              "      <td>4</td>\n",
              "      <td>f liriano</td>\n",
              "      <td>22</td>\n",
              "      <td>26</td>\n",
              "      <td>2016-04-03</td>\n",
              "      <td>16:13:20</td>\n",
              "    </tr>\n",
              "    <tr>\n",
              "      <th>1</th>\n",
              "      <td>TBA201604030</td>\n",
              "      <td>1.459700e+09</td>\n",
              "      <td>1.459700e+09</td>\n",
              "      <td>Toronto Blue Jays</td>\n",
              "      <td>Tampa Bay Rays</td>\n",
              "      <td>0</td>\n",
              "      <td>m stroman</td>\n",
              "      <td>C ARCHER</td>\n",
              "      <td>5</td>\n",
              "      <td>3</td>\n",
              "      <td>c archer</td>\n",
              "      <td>27</td>\n",
              "      <td>29</td>\n",
              "      <td>2016-04-03</td>\n",
              "      <td>16:13:20</td>\n",
              "    </tr>\n",
              "    <tr>\n",
              "      <th>2</th>\n",
              "      <td>KCA201604030</td>\n",
              "      <td>1.459700e+09</td>\n",
              "      <td>1.459700e+09</td>\n",
              "      <td>New York Mets</td>\n",
              "      <td>Kansas City Royals</td>\n",
              "      <td>0</td>\n",
              "      <td>m harvey</td>\n",
              "      <td>E VOLQUEZ</td>\n",
              "      <td>3</td>\n",
              "      <td>4</td>\n",
              "      <td>e volquez</td>\n",
              "      <td>11</td>\n",
              "      <td>18</td>\n",
              "      <td>2016-04-03</td>\n",
              "      <td>16:13:20</td>\n",
              "    </tr>\n",
              "    <tr>\n",
              "      <th>3</th>\n",
              "      <td>MIL201604040</td>\n",
              "      <td>1.459800e+09</td>\n",
              "      <td>1.459800e+09</td>\n",
              "      <td>San Francisco Giants</td>\n",
              "      <td>Milwaukee Brewers</td>\n",
              "      <td>0</td>\n",
              "      <td>m bumgarner</td>\n",
              "      <td>W PERALTA</td>\n",
              "      <td>12</td>\n",
              "      <td>3</td>\n",
              "      <td>w peralta</td>\n",
              "      <td>15</td>\n",
              "      <td>24</td>\n",
              "      <td>2016-04-04</td>\n",
              "      <td>20:00:00</td>\n",
              "    </tr>\n",
              "    <tr>\n",
              "      <th>4</th>\n",
              "      <td>BAL201604040</td>\n",
              "      <td>1.459800e+09</td>\n",
              "      <td>1.459800e+09</td>\n",
              "      <td>Minnesota Twins</td>\n",
              "      <td>Baltimore Orioles</td>\n",
              "      <td>0</td>\n",
              "      <td>e santana</td>\n",
              "      <td>C TILLMAN</td>\n",
              "      <td>2</td>\n",
              "      <td>3</td>\n",
              "      <td>c tillman</td>\n",
              "      <td>2</td>\n",
              "      <td>17</td>\n",
              "      <td>2016-04-04</td>\n",
              "      <td>20:00:00</td>\n",
              "    </tr>\n",
              "  </tbody>\n",
              "</table>\n",
              "</div>"
            ],
            "text/plain": [
              "         GameID  EventDateTimeUTC  ...        Date      Time\n",
              "0  PIT201604030      1.459700e+09  ...  2016-04-03  16:13:20\n",
              "1  TBA201604030      1.459700e+09  ...  2016-04-03  16:13:20\n",
              "2  KCA201604030      1.459700e+09  ...  2016-04-03  16:13:20\n",
              "3  MIL201604040      1.459800e+09  ...  2016-04-04  20:00:00\n",
              "4  BAL201604040      1.459800e+09  ...  2016-04-04  20:00:00\n",
              "\n",
              "[5 rows x 15 columns]"
            ]
          },
          "metadata": {
            "tags": []
          },
          "execution_count": 19
        }
      ]
    },
    {
      "cell_type": "code",
      "metadata": {
        "id": "wirplsp8nHw9",
        "colab_type": "code",
        "colab": {}
      },
      "source": [
        "df_CC_score = df.drop([\"HomeTeam\",\"AwayTeam\",\"AwayStartingPitcher\",\"HomeStartingPicher\",\"DoubleHeaderGame\",\"HomeStartingPitcher\",\"EventDateTimeUTC\",\"EventDateTimeET\"],1)\n"
      ],
      "execution_count": 0,
      "outputs": []
    },
    {
      "cell_type": "markdown",
      "metadata": {
        "id": "Ip-bBJZEoFCp",
        "colab_type": "text"
      },
      "source": [
        "**Now find the games played by Chicago Cubs = team number 5**"
      ]
    },
    {
      "cell_type": "code",
      "metadata": {
        "id": "uMyu5x7Jn8aQ",
        "colab_type": "code",
        "colab": {}
      },
      "source": [
        "df_CC = df_CC_score[(df_CC_score[\"HomeTeam_encoded\"] == 5) | (df_CC_score[\"AwayTeam_encoded\"] == 5)]"
      ],
      "execution_count": 0,
      "outputs": []
    },
    {
      "cell_type": "code",
      "metadata": {
        "id": "fI5hgFtriieA",
        "colab_type": "code",
        "outputId": "f5f61d7b-9f59-4694-df1f-4d113f2294f9",
        "colab": {
          "base_uri": "https://localhost:8080/",
          "height": 34
        }
      },
      "source": [
        "df_CC.shape"
      ],
      "execution_count": 0,
      "outputs": [
        {
          "output_type": "execute_result",
          "data": {
            "text/plain": [
              "(169, 7)"
            ]
          },
          "metadata": {
            "tags": []
          },
          "execution_count": 19
        }
      ]
    },
    {
      "cell_type": "markdown",
      "metadata": {
        "id": "w0gAidS8ik0w",
        "colab_type": "text"
      },
      "source": [
        "Therefore there are 169 games that were played by CC during 2016"
      ]
    },
    {
      "cell_type": "code",
      "metadata": {
        "id": "6vz1Je_dtKjt",
        "colab_type": "code",
        "outputId": "9ced7975-ea12-4491-b666-4498152c2b6e",
        "colab": {
          "base_uri": "https://localhost:8080/",
          "height": 204
        }
      },
      "source": [
        "df_CC.head()"
      ],
      "execution_count": 0,
      "outputs": [
        {
          "output_type": "execute_result",
          "data": {
            "text/html": [
              "<div>\n",
              "<style scoped>\n",
              "    .dataframe tbody tr th:only-of-type {\n",
              "        vertical-align: middle;\n",
              "    }\n",
              "\n",
              "    .dataframe tbody tr th {\n",
              "        vertical-align: top;\n",
              "    }\n",
              "\n",
              "    .dataframe thead th {\n",
              "        text-align: right;\n",
              "    }\n",
              "</style>\n",
              "<table border=\"1\" class=\"dataframe\">\n",
              "  <thead>\n",
              "    <tr style=\"text-align: right;\">\n",
              "      <th></th>\n",
              "      <th>GameID</th>\n",
              "      <th>FinalScoreAway</th>\n",
              "      <th>FinalScoreHome</th>\n",
              "      <th>HomeTeam_encoded</th>\n",
              "      <th>AwayTeam_encoded</th>\n",
              "      <th>Date</th>\n",
              "      <th>Time</th>\n",
              "    </tr>\n",
              "  </thead>\n",
              "  <tbody>\n",
              "    <tr>\n",
              "      <th>11</th>\n",
              "      <td>ANA201604040</td>\n",
              "      <td>9</td>\n",
              "      <td>0</td>\n",
              "      <td>12</td>\n",
              "      <td>5</td>\n",
              "      <td>2016-04-04</td>\n",
              "      <td>20:00:00</td>\n",
              "    </tr>\n",
              "    <tr>\n",
              "      <th>22</th>\n",
              "      <td>ANA201604050</td>\n",
              "      <td>6</td>\n",
              "      <td>1</td>\n",
              "      <td>12</td>\n",
              "      <td>5</td>\n",
              "      <td>2016-04-05</td>\n",
              "      <td>23:46:40</td>\n",
              "    </tr>\n",
              "    <tr>\n",
              "      <th>44</th>\n",
              "      <td>ARI201604070</td>\n",
              "      <td>14</td>\n",
              "      <td>6</td>\n",
              "      <td>0</td>\n",
              "      <td>5</td>\n",
              "      <td>2016-04-08</td>\n",
              "      <td>07:20:00</td>\n",
              "    </tr>\n",
              "    <tr>\n",
              "      <th>48</th>\n",
              "      <td>CHA201604080</td>\n",
              "      <td>7</td>\n",
              "      <td>1</td>\n",
              "      <td>5</td>\n",
              "      <td>8</td>\n",
              "      <td>2016-04-08</td>\n",
              "      <td>07:20:00</td>\n",
              "    </tr>\n",
              "    <tr>\n",
              "      <th>56</th>\n",
              "      <td>ARI201604080</td>\n",
              "      <td>2</td>\n",
              "      <td>3</td>\n",
              "      <td>0</td>\n",
              "      <td>5</td>\n",
              "      <td>2016-04-09</td>\n",
              "      <td>11:06:40</td>\n",
              "    </tr>\n",
              "  </tbody>\n",
              "</table>\n",
              "</div>"
            ],
            "text/plain": [
              "          GameID  FinalScoreAway  ...        Date      Time\n",
              "11  ANA201604040               9  ...  2016-04-04  20:00:00\n",
              "22  ANA201604050               6  ...  2016-04-05  23:46:40\n",
              "44  ARI201604070              14  ...  2016-04-08  07:20:00\n",
              "48  CHA201604080               7  ...  2016-04-08  07:20:00\n",
              "56  ARI201604080               2  ...  2016-04-09  11:06:40\n",
              "\n",
              "[5 rows x 7 columns]"
            ]
          },
          "metadata": {
            "tags": []
          },
          "execution_count": 34
        }
      ]
    },
    {
      "cell_type": "markdown",
      "metadata": {
        "id": "Wee3GwGAizmE",
        "colab_type": "text"
      },
      "source": [
        "Verify how many of these games were tied"
      ]
    },
    {
      "cell_type": "code",
      "metadata": {
        "id": "hLbkERTqgF6w",
        "colab_type": "code",
        "outputId": "bda1588e-1482-4e68-f3bb-c211c3ec5817",
        "colab": {
          "base_uri": "https://localhost:8080/",
          "height": 80
        }
      },
      "source": [
        "df_CC[((df_CC[\"HomeTeam_encoded\"] == 5) | (df_CC[\"AwayTeam_encoded\"] == 5)) & (df_CC[\"FinalScoreAway\"] == df_CC[\"FinalScoreHome\"])]"
      ],
      "execution_count": 0,
      "outputs": [
        {
          "output_type": "execute_result",
          "data": {
            "text/html": [
              "<div>\n",
              "<style scoped>\n",
              "    .dataframe tbody tr th:only-of-type {\n",
              "        vertical-align: middle;\n",
              "    }\n",
              "\n",
              "    .dataframe tbody tr th {\n",
              "        vertical-align: top;\n",
              "    }\n",
              "\n",
              "    .dataframe thead th {\n",
              "        text-align: right;\n",
              "    }\n",
              "</style>\n",
              "<table border=\"1\" class=\"dataframe\">\n",
              "  <thead>\n",
              "    <tr style=\"text-align: right;\">\n",
              "      <th></th>\n",
              "      <th>GameID</th>\n",
              "      <th>FinalScoreAway</th>\n",
              "      <th>FinalScoreHome</th>\n",
              "      <th>HomeTeam_encoded</th>\n",
              "      <th>AwayTeam_encoded</th>\n",
              "      <th>Date</th>\n",
              "      <th>Time</th>\n",
              "    </tr>\n",
              "  </thead>\n",
              "  <tbody>\n",
              "    <tr>\n",
              "      <th>2375</th>\n",
              "      <td>PIT201609290</td>\n",
              "      <td>1</td>\n",
              "      <td>1</td>\n",
              "      <td>22</td>\n",
              "      <td>5</td>\n",
              "      <td>2016-09-30</td>\n",
              "      <td>01:46:40</td>\n",
              "    </tr>\n",
              "  </tbody>\n",
              "</table>\n",
              "</div>"
            ],
            "text/plain": [
              "            GameID  FinalScoreAway  ...        Date      Time\n",
              "2375  PIT201609290               1  ...  2016-09-30  01:46:40\n",
              "\n",
              "[1 rows x 7 columns]"
            ]
          },
          "metadata": {
            "tags": []
          },
          "execution_count": 20
        }
      ]
    },
    {
      "cell_type": "markdown",
      "metadata": {
        "id": "FW4NKg50hNHy",
        "colab_type": "text"
      },
      "source": [
        "So there is only 1 game which ended in a tie due to bad weather."
      ]
    },
    {
      "cell_type": "code",
      "metadata": {
        "id": "SrSk2qrshWDy",
        "colab_type": "code",
        "colab": {}
      },
      "source": [
        "crit1 = ((df_CC[\"HomeTeam_encoded\"] == 5) & (df_CC[\"FinalScoreHome\"] > df_CC[\"FinalScoreAway\"])) #if CC is home team, home score > away score\n",
        "crit2 = ((df_CC[\"AwayTeam_encoded\"] == 5) & (df_CC[\"FinalScoreAway\"] > df_CC[\"FinalScoreHome\"])) #if CC is away team, away score > home score"
      ],
      "execution_count": 0,
      "outputs": []
    },
    {
      "cell_type": "code",
      "metadata": {
        "id": "X08Adocn4B0L",
        "colab_type": "code",
        "outputId": "d718dbd4-cfbe-4167-af6a-ebf3f820caed",
        "colab": {
          "base_uri": "https://localhost:8080/",
          "height": 204
        }
      },
      "source": [
        "df_CC.head()"
      ],
      "execution_count": 0,
      "outputs": [
        {
          "output_type": "execute_result",
          "data": {
            "text/html": [
              "<div>\n",
              "<style scoped>\n",
              "    .dataframe tbody tr th:only-of-type {\n",
              "        vertical-align: middle;\n",
              "    }\n",
              "\n",
              "    .dataframe tbody tr th {\n",
              "        vertical-align: top;\n",
              "    }\n",
              "\n",
              "    .dataframe thead th {\n",
              "        text-align: right;\n",
              "    }\n",
              "</style>\n",
              "<table border=\"1\" class=\"dataframe\">\n",
              "  <thead>\n",
              "    <tr style=\"text-align: right;\">\n",
              "      <th></th>\n",
              "      <th>GameID</th>\n",
              "      <th>FinalScoreAway</th>\n",
              "      <th>FinalScoreHome</th>\n",
              "      <th>HomeTeam_encoded</th>\n",
              "      <th>AwayTeam_encoded</th>\n",
              "      <th>Date</th>\n",
              "      <th>Time</th>\n",
              "    </tr>\n",
              "  </thead>\n",
              "  <tbody>\n",
              "    <tr>\n",
              "      <th>11</th>\n",
              "      <td>ANA201604040</td>\n",
              "      <td>9</td>\n",
              "      <td>0</td>\n",
              "      <td>12</td>\n",
              "      <td>5</td>\n",
              "      <td>2016-04-04</td>\n",
              "      <td>20:00:00</td>\n",
              "    </tr>\n",
              "    <tr>\n",
              "      <th>22</th>\n",
              "      <td>ANA201604050</td>\n",
              "      <td>6</td>\n",
              "      <td>1</td>\n",
              "      <td>12</td>\n",
              "      <td>5</td>\n",
              "      <td>2016-04-05</td>\n",
              "      <td>23:46:40</td>\n",
              "    </tr>\n",
              "    <tr>\n",
              "      <th>44</th>\n",
              "      <td>ARI201604070</td>\n",
              "      <td>14</td>\n",
              "      <td>6</td>\n",
              "      <td>0</td>\n",
              "      <td>5</td>\n",
              "      <td>2016-04-08</td>\n",
              "      <td>07:20:00</td>\n",
              "    </tr>\n",
              "    <tr>\n",
              "      <th>48</th>\n",
              "      <td>CHA201604080</td>\n",
              "      <td>7</td>\n",
              "      <td>1</td>\n",
              "      <td>5</td>\n",
              "      <td>8</td>\n",
              "      <td>2016-04-08</td>\n",
              "      <td>07:20:00</td>\n",
              "    </tr>\n",
              "    <tr>\n",
              "      <th>56</th>\n",
              "      <td>ARI201604080</td>\n",
              "      <td>2</td>\n",
              "      <td>3</td>\n",
              "      <td>0</td>\n",
              "      <td>5</td>\n",
              "      <td>2016-04-09</td>\n",
              "      <td>11:06:40</td>\n",
              "    </tr>\n",
              "  </tbody>\n",
              "</table>\n",
              "</div>"
            ],
            "text/plain": [
              "          GameID  FinalScoreAway  ...        Date      Time\n",
              "11  ANA201604040               9  ...  2016-04-04  20:00:00\n",
              "22  ANA201604050               6  ...  2016-04-05  23:46:40\n",
              "44  ARI201604070              14  ...  2016-04-08  07:20:00\n",
              "48  CHA201604080               7  ...  2016-04-08  07:20:00\n",
              "56  ARI201604080               2  ...  2016-04-09  11:06:40\n",
              "\n",
              "[5 rows x 7 columns]"
            ]
          },
          "metadata": {
            "tags": []
          },
          "execution_count": 24
        }
      ]
    },
    {
      "cell_type": "code",
      "metadata": {
        "id": "fhQ5EqbEvSw2",
        "colab_type": "code",
        "colab": {}
      },
      "source": [
        "df_CC[\"Won\"] = 0"
      ],
      "execution_count": 0,
      "outputs": []
    },
    {
      "cell_type": "code",
      "metadata": {
        "id": "C4JlImfq4isd",
        "colab_type": "code",
        "outputId": "1a6a124b-e31a-472e-bc42-1f203c61cdd6",
        "colab": {
          "base_uri": "https://localhost:8080/",
          "height": 204
        }
      },
      "source": [
        "df_CC.head()"
      ],
      "execution_count": 0,
      "outputs": [
        {
          "output_type": "execute_result",
          "data": {
            "text/html": [
              "<div>\n",
              "<style scoped>\n",
              "    .dataframe tbody tr th:only-of-type {\n",
              "        vertical-align: middle;\n",
              "    }\n",
              "\n",
              "    .dataframe tbody tr th {\n",
              "        vertical-align: top;\n",
              "    }\n",
              "\n",
              "    .dataframe thead th {\n",
              "        text-align: right;\n",
              "    }\n",
              "</style>\n",
              "<table border=\"1\" class=\"dataframe\">\n",
              "  <thead>\n",
              "    <tr style=\"text-align: right;\">\n",
              "      <th></th>\n",
              "      <th>GameID</th>\n",
              "      <th>FinalScoreAway</th>\n",
              "      <th>FinalScoreHome</th>\n",
              "      <th>HomeTeam_encoded</th>\n",
              "      <th>AwayTeam_encoded</th>\n",
              "      <th>Date</th>\n",
              "      <th>Time</th>\n",
              "      <th>Won</th>\n",
              "      <th>cum_sum</th>\n",
              "      <th>C</th>\n",
              "    </tr>\n",
              "  </thead>\n",
              "  <tbody>\n",
              "    <tr>\n",
              "      <th>11</th>\n",
              "      <td>ANA201604040</td>\n",
              "      <td>9</td>\n",
              "      <td>0</td>\n",
              "      <td>12</td>\n",
              "      <td>5</td>\n",
              "      <td>2016-04-04</td>\n",
              "      <td>20:00:00</td>\n",
              "      <td>1</td>\n",
              "      <td>1</td>\n",
              "      <td>0</td>\n",
              "    </tr>\n",
              "    <tr>\n",
              "      <th>22</th>\n",
              "      <td>ANA201604050</td>\n",
              "      <td>6</td>\n",
              "      <td>1</td>\n",
              "      <td>12</td>\n",
              "      <td>5</td>\n",
              "      <td>2016-04-05</td>\n",
              "      <td>23:46:40</td>\n",
              "      <td>1</td>\n",
              "      <td>2</td>\n",
              "      <td>1</td>\n",
              "    </tr>\n",
              "    <tr>\n",
              "      <th>44</th>\n",
              "      <td>ARI201604070</td>\n",
              "      <td>14</td>\n",
              "      <td>6</td>\n",
              "      <td>0</td>\n",
              "      <td>5</td>\n",
              "      <td>2016-04-08</td>\n",
              "      <td>07:20:00</td>\n",
              "      <td>1</td>\n",
              "      <td>3</td>\n",
              "      <td>2</td>\n",
              "    </tr>\n",
              "    <tr>\n",
              "      <th>48</th>\n",
              "      <td>CHA201604080</td>\n",
              "      <td>7</td>\n",
              "      <td>1</td>\n",
              "      <td>5</td>\n",
              "      <td>8</td>\n",
              "      <td>2016-04-08</td>\n",
              "      <td>07:20:00</td>\n",
              "      <td>0</td>\n",
              "      <td>3</td>\n",
              "      <td>3</td>\n",
              "    </tr>\n",
              "    <tr>\n",
              "      <th>56</th>\n",
              "      <td>ARI201604080</td>\n",
              "      <td>2</td>\n",
              "      <td>3</td>\n",
              "      <td>0</td>\n",
              "      <td>5</td>\n",
              "      <td>2016-04-09</td>\n",
              "      <td>11:06:40</td>\n",
              "      <td>0</td>\n",
              "      <td>3</td>\n",
              "      <td>4</td>\n",
              "    </tr>\n",
              "  </tbody>\n",
              "</table>\n",
              "</div>"
            ],
            "text/plain": [
              "          GameID  FinalScoreAway  FinalScoreHome  ...  Won  cum_sum  C\n",
              "11  ANA201604040               9               0  ...    1        1  0\n",
              "22  ANA201604050               6               1  ...    1        2  1\n",
              "44  ARI201604070              14               6  ...    1        3  2\n",
              "48  CHA201604080               7               1  ...    0        3  3\n",
              "56  ARI201604080               2               3  ...    0        3  4\n",
              "\n",
              "[5 rows x 10 columns]"
            ]
          },
          "metadata": {
            "tags": []
          },
          "execution_count": 35
        }
      ]
    },
    {
      "cell_type": "code",
      "metadata": {
        "id": "xV8DYXyPvStp",
        "colab_type": "code",
        "colab": {}
      },
      "source": [
        "df_CC['Won'][(crit1 | crit2)] = 1"
      ],
      "execution_count": 0,
      "outputs": []
    },
    {
      "cell_type": "code",
      "metadata": {
        "id": "clJq6qzKvSqC",
        "colab_type": "code",
        "colab": {}
      },
      "source": [
        "df_CC['cum_sum'] = df_CC['Won'].cumsum()"
      ],
      "execution_count": 0,
      "outputs": []
    },
    {
      "cell_type": "code",
      "metadata": {
        "id": "BcdMlRA26FoU",
        "colab_type": "code",
        "colab": {}
      },
      "source": [
        "df_CC['C'] = np.arange(len(df_CC))"
      ],
      "execution_count": 0,
      "outputs": []
    },
    {
      "cell_type": "code",
      "metadata": {
        "id": "u22-jVGk7AAb",
        "colab_type": "code",
        "colab": {}
      },
      "source": [
        "df_CC['C'] = df_CC['C']+1"
      ],
      "execution_count": 0,
      "outputs": []
    },
    {
      "cell_type": "code",
      "metadata": {
        "id": "DhI8iQNVvSb0",
        "colab_type": "code",
        "colab": {}
      },
      "source": [
        "df_CC['cum_perc'] = round(100*(df_CC['cum_sum']/df_CC['C']),4)"
      ],
      "execution_count": 0,
      "outputs": []
    },
    {
      "cell_type": "code",
      "metadata": {
        "id": "MKFsiVmDhV0b",
        "colab_type": "code",
        "outputId": "373ccf44-c333-4c4a-f670-84406e9fff33",
        "colab": {
          "base_uri": "https://localhost:8080/",
          "height": 289
        }
      },
      "source": [
        "df_CC.head()"
      ],
      "execution_count": 0,
      "outputs": [
        {
          "output_type": "execute_result",
          "data": {
            "text/html": [
              "<div>\n",
              "<style scoped>\n",
              "    .dataframe tbody tr th:only-of-type {\n",
              "        vertical-align: middle;\n",
              "    }\n",
              "\n",
              "    .dataframe tbody tr th {\n",
              "        vertical-align: top;\n",
              "    }\n",
              "\n",
              "    .dataframe thead th {\n",
              "        text-align: right;\n",
              "    }\n",
              "</style>\n",
              "<table border=\"1\" class=\"dataframe\">\n",
              "  <thead>\n",
              "    <tr style=\"text-align: right;\">\n",
              "      <th></th>\n",
              "      <th>GameID</th>\n",
              "      <th>FinalScoreAway</th>\n",
              "      <th>FinalScoreHome</th>\n",
              "      <th>HomeTeam_encoded</th>\n",
              "      <th>AwayTeam_encoded</th>\n",
              "      <th>Date</th>\n",
              "      <th>Time</th>\n",
              "      <th>Won</th>\n",
              "      <th>cum_sum</th>\n",
              "      <th>C</th>\n",
              "      <th>cum_perc</th>\n",
              "    </tr>\n",
              "  </thead>\n",
              "  <tbody>\n",
              "    <tr>\n",
              "      <th>11</th>\n",
              "      <td>ANA201604040</td>\n",
              "      <td>9</td>\n",
              "      <td>0</td>\n",
              "      <td>12</td>\n",
              "      <td>5</td>\n",
              "      <td>2016-04-04</td>\n",
              "      <td>20:00:00</td>\n",
              "      <td>1</td>\n",
              "      <td>1</td>\n",
              "      <td>1</td>\n",
              "      <td>100.0</td>\n",
              "    </tr>\n",
              "    <tr>\n",
              "      <th>22</th>\n",
              "      <td>ANA201604050</td>\n",
              "      <td>6</td>\n",
              "      <td>1</td>\n",
              "      <td>12</td>\n",
              "      <td>5</td>\n",
              "      <td>2016-04-05</td>\n",
              "      <td>23:46:40</td>\n",
              "      <td>1</td>\n",
              "      <td>2</td>\n",
              "      <td>2</td>\n",
              "      <td>100.0</td>\n",
              "    </tr>\n",
              "    <tr>\n",
              "      <th>44</th>\n",
              "      <td>ARI201604070</td>\n",
              "      <td>14</td>\n",
              "      <td>6</td>\n",
              "      <td>0</td>\n",
              "      <td>5</td>\n",
              "      <td>2016-04-08</td>\n",
              "      <td>07:20:00</td>\n",
              "      <td>1</td>\n",
              "      <td>3</td>\n",
              "      <td>3</td>\n",
              "      <td>100.0</td>\n",
              "    </tr>\n",
              "    <tr>\n",
              "      <th>48</th>\n",
              "      <td>CHA201604080</td>\n",
              "      <td>7</td>\n",
              "      <td>1</td>\n",
              "      <td>5</td>\n",
              "      <td>8</td>\n",
              "      <td>2016-04-08</td>\n",
              "      <td>07:20:00</td>\n",
              "      <td>0</td>\n",
              "      <td>3</td>\n",
              "      <td>4</td>\n",
              "      <td>75.0</td>\n",
              "    </tr>\n",
              "    <tr>\n",
              "      <th>56</th>\n",
              "      <td>ARI201604080</td>\n",
              "      <td>2</td>\n",
              "      <td>3</td>\n",
              "      <td>0</td>\n",
              "      <td>5</td>\n",
              "      <td>2016-04-09</td>\n",
              "      <td>11:06:40</td>\n",
              "      <td>0</td>\n",
              "      <td>3</td>\n",
              "      <td>5</td>\n",
              "      <td>60.0</td>\n",
              "    </tr>\n",
              "  </tbody>\n",
              "</table>\n",
              "</div>"
            ],
            "text/plain": [
              "          GameID  FinalScoreAway  FinalScoreHome  ...  cum_sum  C cum_perc\n",
              "11  ANA201604040               9               0  ...        1  1    100.0\n",
              "22  ANA201604050               6               1  ...        2  2    100.0\n",
              "44  ARI201604070              14               6  ...        3  3    100.0\n",
              "48  CHA201604080               7               1  ...        3  4     75.0\n",
              "56  ARI201604080               2               3  ...        3  5     60.0\n",
              "\n",
              "[5 rows x 11 columns]"
            ]
          },
          "metadata": {
            "tags": []
          },
          "execution_count": 58
        }
      ]
    },
    {
      "cell_type": "code",
      "metadata": {
        "id": "StrIMrSn8TCr",
        "colab_type": "code",
        "outputId": "1a656c10-004a-4077-8c44-03e9132443d7",
        "colab": {
          "base_uri": "https://localhost:8080/",
          "height": 309
        }
      },
      "source": [
        "df_CC.tail()"
      ],
      "execution_count": 0,
      "outputs": [
        {
          "output_type": "execute_result",
          "data": {
            "text/html": [
              "<div>\n",
              "<style scoped>\n",
              "    .dataframe tbody tr th:only-of-type {\n",
              "        vertical-align: middle;\n",
              "    }\n",
              "\n",
              "    .dataframe tbody tr th {\n",
              "        vertical-align: top;\n",
              "    }\n",
              "\n",
              "    .dataframe thead th {\n",
              "        text-align: right;\n",
              "    }\n",
              "</style>\n",
              "<table border=\"1\" class=\"dataframe\">\n",
              "  <thead>\n",
              "    <tr style=\"text-align: right;\">\n",
              "      <th></th>\n",
              "      <th>GameID</th>\n",
              "      <th>FinalScoreAway</th>\n",
              "      <th>FinalScoreHome</th>\n",
              "      <th>HomeTeam_encoded</th>\n",
              "      <th>AwayTeam_encoded</th>\n",
              "      <th>Date</th>\n",
              "      <th>Time</th>\n",
              "      <th>Won</th>\n",
              "      <th>cum_sum</th>\n",
              "      <th>C</th>\n",
              "      <th>cum_perc</th>\n",
              "    </tr>\n",
              "  </thead>\n",
              "  <tbody>\n",
              "    <tr>\n",
              "      <th>2453</th>\n",
              "      <td>LAN201610200</td>\n",
              "      <td>8</td>\n",
              "      <td>4</td>\n",
              "      <td>13</td>\n",
              "      <td>5</td>\n",
              "      <td>2016-10-20</td>\n",
              "      <td>21:46:40</td>\n",
              "      <td>1</td>\n",
              "      <td>94</td>\n",
              "      <td>165</td>\n",
              "      <td>56.9697</td>\n",
              "    </tr>\n",
              "    <tr>\n",
              "      <th>2455</th>\n",
              "      <td>CLE201610250</td>\n",
              "      <td>0</td>\n",
              "      <td>6</td>\n",
              "      <td>7</td>\n",
              "      <td>5</td>\n",
              "      <td>2016-10-25</td>\n",
              "      <td>12:53:20</td>\n",
              "      <td>0</td>\n",
              "      <td>94</td>\n",
              "      <td>166</td>\n",
              "      <td>56.6265</td>\n",
              "    </tr>\n",
              "    <tr>\n",
              "      <th>2456</th>\n",
              "      <td>CLE201610260</td>\n",
              "      <td>5</td>\n",
              "      <td>1</td>\n",
              "      <td>7</td>\n",
              "      <td>5</td>\n",
              "      <td>2016-10-26</td>\n",
              "      <td>16:40:00</td>\n",
              "      <td>1</td>\n",
              "      <td>95</td>\n",
              "      <td>167</td>\n",
              "      <td>56.8862</td>\n",
              "    </tr>\n",
              "    <tr>\n",
              "      <th>2460</th>\n",
              "      <td>CLE201611010</td>\n",
              "      <td>9</td>\n",
              "      <td>3</td>\n",
              "      <td>7</td>\n",
              "      <td>5</td>\n",
              "      <td>2016-11-01</td>\n",
              "      <td>11:33:20</td>\n",
              "      <td>1</td>\n",
              "      <td>96</td>\n",
              "      <td>168</td>\n",
              "      <td>57.1429</td>\n",
              "    </tr>\n",
              "    <tr>\n",
              "      <th>2461</th>\n",
              "      <td>CLE201611020</td>\n",
              "      <td>8</td>\n",
              "      <td>7</td>\n",
              "      <td>7</td>\n",
              "      <td>5</td>\n",
              "      <td>2016-11-02</td>\n",
              "      <td>15:20:00</td>\n",
              "      <td>1</td>\n",
              "      <td>97</td>\n",
              "      <td>169</td>\n",
              "      <td>57.3964</td>\n",
              "    </tr>\n",
              "  </tbody>\n",
              "</table>\n",
              "</div>"
            ],
            "text/plain": [
              "            GameID  FinalScoreAway  FinalScoreHome  ...  cum_sum    C cum_perc\n",
              "2453  LAN201610200               8               4  ...       94  165  56.9697\n",
              "2455  CLE201610250               0               6  ...       94  166  56.6265\n",
              "2456  CLE201610260               5               1  ...       95  167  56.8862\n",
              "2460  CLE201611010               9               3  ...       96  168  57.1429\n",
              "2461  CLE201611020               8               7  ...       97  169  57.3964\n",
              "\n",
              "[5 rows x 11 columns]"
            ]
          },
          "metadata": {
            "tags": []
          },
          "execution_count": 59
        }
      ]
    },
    {
      "cell_type": "markdown",
      "metadata": {
        "id": "Hz5_3u0OlBjj",
        "colab_type": "text"
      },
      "source": [
        "There were 97 games won by CC out of the total 169 games played. "
      ]
    },
    {
      "cell_type": "markdown",
      "metadata": {
        "id": "pgLInylOlnEC",
        "colab_type": "text"
      },
      "source": [
        "**The final win percentage of the Chicago Cubs at the end of 2016 is 57.396%** **bold text**"
      ]
    },
    {
      "cell_type": "markdown",
      "metadata": {
        "id": "j5d8a35wl-fs",
        "colab_type": "text"
      },
      "source": [
        "###Q2a"
      ]
    },
    {
      "cell_type": "markdown",
      "metadata": {
        "id": "XrV4cjqRmBdV",
        "colab_type": "text"
      },
      "source": [
        "Plot the winning percentage of the Chicago Cubs as a function of time in 2016."
      ]
    },
    {
      "cell_type": "code",
      "metadata": {
        "id": "H2hbJqxQmJQL",
        "colab_type": "code",
        "colab": {}
      },
      "source": [
        "sns.set(rc={'figure.figsize':(11, 4)})"
      ],
      "execution_count": 0,
      "outputs": []
    },
    {
      "cell_type": "code",
      "metadata": {
        "id": "1myfKJ_mmDuv",
        "colab_type": "code",
        "outputId": "80748e5f-edde-41cd-c35e-be038a1e95ee",
        "colab": {
          "base_uri": "https://localhost:8080/",
          "height": 565
        }
      },
      "source": [
        "plt.figure()\n",
        "df_CC.plot(x= 'Date',y = 'cum_perc')\n",
        "plt.ylim(0,110)\n",
        "plt.xlabel('Date')\n",
        "plt.ylabel('% Win')\n",
        "\n",
        "plt.show();"
      ],
      "execution_count": 0,
      "outputs": [
        {
          "output_type": "display_data",
          "data": {
            "image/png": "[encoded data removed]",
            "text/plain": [
              "<Figure size 792x288 with 1 Axes>"
            ]
          },
          "metadata": {
            "tags": []
          }
        },
        {
          "output_type": "display_data",
          "data": {
            "image/png": "[encoded data removed]",
            "text/plain": [
              "<Figure size 792x288 with 1 Axes>"
            ]
          },
          "metadata": {
            "tags": []
          }
        }
      ]
    },
    {
      "cell_type": "code",
      "metadata": {
        "id": "4rZ0katp9KkJ",
        "colab_type": "code",
        "colab": {}
      },
      "source": [
        " plt.close('all')"
      ],
      "execution_count": 0,
      "outputs": []
    },
    {
      "cell_type": "markdown",
      "metadata": {
        "id": "DNT7lHDel7yH",
        "colab_type": "text"
      },
      "source": [
        "###Q3"
      ]
    },
    {
      "cell_type": "markdown",
      "metadata": {
        "id": "v3UgiEApSTrN",
        "colab_type": "text"
      },
      "source": [
        "Which game had the most odds changes?\n",
        "\n",
        "Hint: The Lines column contains a data frame where each row represents a change in odds."
      ]
    },
    {
      "cell_type": "code",
      "metadata": {
        "id": "If4oFeFneY2s",
        "colab_type": "code",
        "outputId": "a1296c18-5ef0-4579-9f1d-793f859d900d",
        "colab": {
          "base_uri": "https://localhost:8080/",
          "height": 105
        }
      },
      "source": [
        "%pip install surebet"
      ],
      "execution_count": 0,
      "outputs": [
        {
          "output_type": "stream",
          "text": [
            "Collecting surebet\n",
            "  Downloading https://files.pythonhosted.org/packages/f0/49/6fda4920f98a653519cb01879242289094c71584e4b38eee9927246fc481/surebet-0.1.2-py2.py3-none-any.whl\n",
            "Installing collected packages: surebet\n",
            "Successfully installed surebet-0.1.2\n"
          ],
          "name": "stdout"
        }
      ]
    },
    {
      "cell_type": "code",
      "metadata": {
        "id": "J1jg0wB2Ifdd",
        "colab_type": "code",
        "colab": {}
      },
      "source": [
        "df_lines[\"odds_change\"]=0."
      ],
      "execution_count": 0,
      "outputs": []
    },
    {
      "cell_type": "code",
      "metadata": {
        "id": "OBitTDiQ8BxF",
        "colab_type": "code",
        "colab": {}
      },
      "source": [
        "for row in df_lines.itertuples():\n",
        "  minn = min(d for d in (df_lines.loc[row.Index][7]) if d is not None)\n",
        "  maxx= max(d for d in (df_lines.loc[row.Index][7]) if d is not None)\n",
        "  df_lines.at[row.Index,\"odds_change\"] = np.diff([minn,maxx])"
      ],
      "execution_count": 0,
      "outputs": []
    },
    {
      "cell_type": "code",
      "metadata": {
        "id": "qYzHlLp-Jc4q",
        "colab_type": "code",
        "outputId": "6485a33e-f9d8-48f7-a34d-8833b245dca6",
        "colab": {
          "base_uri": "https://localhost:8080/",
          "height": 34
        }
      },
      "source": [
        "df_lines[\"odds_change\"].max()"
      ],
      "execution_count": 0,
      "outputs": [
        {
          "output_type": "execute_result",
          "data": {
            "text/plain": [
              "2.0"
            ]
          },
          "metadata": {
            "tags": []
          },
          "execution_count": 302
        }
      ]
    },
    {
      "cell_type": "code",
      "metadata": {
        "id": "8xpK8g_vJn65",
        "colab_type": "code",
        "outputId": "cfe3a463-9e99-4efe-ba4e-9e46273de610",
        "colab": {
          "base_uri": "https://localhost:8080/",
          "height": 34
        }
      },
      "source": [
        "max_index = df_lines[\"odds_change\"].idxmax()\n",
        "print(max_index)"
      ],
      "execution_count": 0,
      "outputs": [
        {
          "output_type": "stream",
          "text": [
            "720\n"
          ],
          "name": "stdout"
        }
      ]
    },
    {
      "cell_type": "code",
      "metadata": {
        "id": "ce4T2f6xJqXg",
        "colab_type": "code",
        "outputId": "cdc622d7-7d71-4a9d-94d2-ab405235549c",
        "colab": {
          "base_uri": "https://localhost:8080/",
          "height": 255
        }
      },
      "source": [
        "df.loc[max_index]"
      ],
      "execution_count": 0,
      "outputs": [
        {
          "output_type": "execute_result",
          "data": {
            "text/plain": [
              "GameID                          CHN201605280\n",
              "EventDateTimeUTC                  1.4645e+09\n",
              "EventDateTimeET                   1.4645e+09\n",
              "AwayTeam               Philadelphia Phillies\n",
              "HomeTeam                        Chicago Cubs\n",
              "DoubleHeaderGame                           0\n",
              "AwayStartingPitcher               j eickhoff\n",
              "HomeStartingPicher               K HENDRICKS\n",
              "FinalScoreAway                             1\n",
              "FinalScoreHome                             4\n",
              "HomeStartingPitcher              k hendricks\n",
              "HomeTeam_encoded                           4\n",
              "AwayTeam_encoded                          21\n",
              "Name: 720, dtype: object"
            ]
          },
          "metadata": {
            "tags": []
          },
          "execution_count": 314
        }
      ]
    },
    {
      "cell_type": "markdown",
      "metadata": {
        "id": "L_Oyv7_QJyRv",
        "colab_type": "text"
      },
      "source": [
        "**The Philadelphia against Chicago game with ID CHN201605280 had the maximum odd change**"
      ]
    },
    {
      "cell_type": "markdown",
      "metadata": {
        "id": "haSgLE9JUyof",
        "colab_type": "text"
      },
      "source": [
        "###Q3a"
      ]
    },
    {
      "cell_type": "markdown",
      "metadata": {
        "id": "puZarJz9U8UA",
        "colab_type": "text"
      },
      "source": [
        "\n",
        "Visualize the probability of the home team winning the above game over time, by using odds.converter to convert the MoneyUs2 column to probability.\n",
        "\n",
        "Hint: The US odds of the home team winning is contained in the column MoneyUS2 of the Lines field. This can be converted to a probability with: odds.converter::odds.us2prob(MoneyUs2)."
      ]
    },
    {
      "cell_type": "code",
      "metadata": {
        "id": "EqKc0amzQAGb",
        "colab_type": "code",
        "colab": {}
      },
      "source": [
        "#keep only the last value, containing the winning probability in the list for each column\n",
        "for column in df_lines.column:\n",
        "  df_lines[column] = df_lines[column].apply(lambda x: x[-1])\n",
        "     "
      ],
      "execution_count": 0,
      "outputs": []
    },
    {
      "cell_type": "code",
      "metadata": {
        "id": "sMKEBIvp33hX",
        "colab_type": "code",
        "colab": {}
      },
      "source": [
        "#Convert to gregorian calender date using the df dataframe\n",
        "df_lines['Date'] = pd.to_datetime(df['EventDateTimeUTC'],unit='s').dt.date"
      ],
      "execution_count": 0,
      "outputs": []
    },
    {
      "cell_type": "code",
      "metadata": {
        "id": "tqkm-j_GLCdz",
        "colab_type": "code",
        "outputId": "bed766fc-51a4-4c82-e7bf-ed0369ada8a0",
        "colab": {
          "base_uri": "https://localhost:8080/",
          "height": 309
        }
      },
      "source": [
        "df_lines.head(5)"
      ],
      "execution_count": 0,
      "outputs": [
        {
          "output_type": "execute_result",
          "data": {
            "text/html": [
              "<div>\n",
              "<style scoped>\n",
              "    .dataframe tbody tr th:only-of-type {\n",
              "        vertical-align: middle;\n",
              "    }\n",
              "\n",
              "    .dataframe tbody tr th {\n",
              "        vertical-align: top;\n",
              "    }\n",
              "\n",
              "    .dataframe thead th {\n",
              "        text-align: right;\n",
              "    }\n",
              "</style>\n",
              "<table border=\"1\" class=\"dataframe\">\n",
              "  <thead>\n",
              "    <tr style=\"text-align: right;\">\n",
              "      <th></th>\n",
              "      <th>EnteredDateTimeET</th>\n",
              "      <th>EnteredDateTimeUTC</th>\n",
              "      <th>MoneyUS1</th>\n",
              "      <th>MoneyUS2</th>\n",
              "      <th>SpreadTeam1</th>\n",
              "      <th>SpreadUS1</th>\n",
              "      <th>SpreadUS2</th>\n",
              "      <th>TotalPoints</th>\n",
              "      <th>TotalUSOver</th>\n",
              "      <th>TotalUSUnder</th>\n",
              "      <th>final_odds</th>\n",
              "      <th>odds_change</th>\n",
              "      <th>Date</th>\n",
              "    </tr>\n",
              "  </thead>\n",
              "  <tbody>\n",
              "    <tr>\n",
              "      <th>0</th>\n",
              "      <td>1.459700e+09</td>\n",
              "      <td>1.459700e+09</td>\n",
              "      <td>109</td>\n",
              "      <td>-118</td>\n",
              "      <td>1.5</td>\n",
              "      <td>-216</td>\n",
              "      <td>198</td>\n",
              "      <td>6.0</td>\n",
              "      <td>-128</td>\n",
              "      <td>116</td>\n",
              "      <td>116</td>\n",
              "      <td>0.5</td>\n",
              "      <td>2016-04-03</td>\n",
              "    </tr>\n",
              "    <tr>\n",
              "      <th>1</th>\n",
              "      <td>1.459700e+09</td>\n",
              "      <td>1.459700e+09</td>\n",
              "      <td>108</td>\n",
              "      <td>-117</td>\n",
              "      <td>1.5</td>\n",
              "      <td>-194</td>\n",
              "      <td>178</td>\n",
              "      <td>7.0</td>\n",
              "      <td>-123</td>\n",
              "      <td>111</td>\n",
              "      <td>111</td>\n",
              "      <td>0.0</td>\n",
              "      <td>2016-04-03</td>\n",
              "    </tr>\n",
              "    <tr>\n",
              "      <th>2</th>\n",
              "      <td>1.459700e+09</td>\n",
              "      <td>1.459700e+09</td>\n",
              "      <td>-116</td>\n",
              "      <td>107</td>\n",
              "      <td>-1.5</td>\n",
              "      <td>147</td>\n",
              "      <td>-160</td>\n",
              "      <td>7.5</td>\n",
              "      <td>-128</td>\n",
              "      <td>116</td>\n",
              "      <td>116</td>\n",
              "      <td>0.5</td>\n",
              "      <td>2016-04-03</td>\n",
              "    </tr>\n",
              "    <tr>\n",
              "      <th>3</th>\n",
              "      <td>1.459800e+09</td>\n",
              "      <td>1.459800e+09</td>\n",
              "      <td>-168</td>\n",
              "      <td>155</td>\n",
              "      <td>-1.5</td>\n",
              "      <td>-103</td>\n",
              "      <td>-105</td>\n",
              "      <td>8.0</td>\n",
              "      <td>-102</td>\n",
              "      <td>-108</td>\n",
              "      <td>-108</td>\n",
              "      <td>1.0</td>\n",
              "      <td>2016-04-04</td>\n",
              "    </tr>\n",
              "    <tr>\n",
              "      <th>4</th>\n",
              "      <td>1.459800e+09</td>\n",
              "      <td>1.459800e+09</td>\n",
              "      <td>105</td>\n",
              "      <td>-114</td>\n",
              "      <td>1.5</td>\n",
              "      <td>-185</td>\n",
              "      <td>170</td>\n",
              "      <td>9.0</td>\n",
              "      <td>-101</td>\n",
              "      <td>-109</td>\n",
              "      <td>-109</td>\n",
              "      <td>0.5</td>\n",
              "      <td>2016-04-04</td>\n",
              "    </tr>\n",
              "  </tbody>\n",
              "</table>\n",
              "</div>"
            ],
            "text/plain": [
              "   EnteredDateTimeET  EnteredDateTimeUTC  ...  odds_change        Date\n",
              "0       1.459700e+09        1.459700e+09  ...          0.5  2016-04-03\n",
              "1       1.459700e+09        1.459700e+09  ...          0.0  2016-04-03\n",
              "2       1.459700e+09        1.459700e+09  ...          0.5  2016-04-03\n",
              "3       1.459800e+09        1.459800e+09  ...          1.0  2016-04-04\n",
              "4       1.459800e+09        1.459800e+09  ...          0.5  2016-04-04\n",
              "\n",
              "[5 rows x 13 columns]"
            ]
          },
          "metadata": {
            "tags": []
          },
          "execution_count": 311
        }
      ]
    },
    {
      "cell_type": "code",
      "metadata": {
        "id": "qic17eVAVJ5A",
        "colab_type": "code",
        "colab": {}
      },
      "source": [
        "#use the odds to probability converter from surebet package\n",
        "df_lines[\"US2_Decodds\"] = df_lines[\"MoneyUS2\"].apply(lambda x : converter.us_to_dec(x))\n",
        "df_lines[\"US1_Decodds\"] = df_lines[\"MoneyUS1\"].apply(lambda x : converter.us_to_dec(x))"
      ],
      "execution_count": 0,
      "outputs": []
    },
    {
      "cell_type": "code",
      "metadata": {
        "id": "qCwX2NwxM9-F",
        "colab_type": "code",
        "colab": {}
      },
      "source": [
        "sns.set(rc={'figure.figsize':(11, 4)})"
      ],
      "execution_count": 0,
      "outputs": []
    },
    {
      "cell_type": "code",
      "metadata": {
        "id": "ktepbjUEZgWD",
        "colab_type": "code",
        "outputId": "c756f92a-13c8-4edb-c75f-04cf78704616",
        "colab": {
          "base_uri": "https://localhost:8080/",
          "height": 301
        }
      },
      "source": [
        "plt.figure()\n",
        "plt.plot(df_lines[\"Date\"],df_lines[\"US2_Decodds\"])\n",
        "plt.xlabel('Date')\n",
        "plt.ylabel('Probability of the Home team winning')\n",
        "plt.title(\"Probability change for the winning Home Team\")\n",
        "plt.show();"
      ],
      "execution_count": 0,
      "outputs": [
        {
          "output_type": "display_data",
          "data": {
            "image/png": "[encoded data removed]",
            "text/plain": [
              "<Figure size 792x288 with 1 Axes>"
            ]
          },
          "metadata": {
            "tags": []
          }
        }
      ]
    },
    {
      "cell_type": "markdown",
      "metadata": {
        "id": "J8xrfahL0VdC",
        "colab_type": "text"
      },
      "source": [
        "###Q4\n",
        "Which starting pitcher was the largest favorite on average to win, for any pitcher with >= 10 starts?\n",
        "\n",
        "Hint By largest favorite, we want to see which pitcher had the highest mean closing probability to win. For each game, the closing probabilities are contained in the last row in the Lines field. The MoneyUS1 and MoneyUS2 columns contain the US moneyline odds of the AwayTeam (MoneyUS1) and the HomeTeam (MoneyUS2) winning, respectively. It will help to convert these into probabilities using odds.converter."
      ]
    },
    {
      "cell_type": "code",
      "metadata": {
        "id": "kdtS_3t4JPsu",
        "colab_type": "code",
        "colab": {}
      },
      "source": [
        "#Add the pitcher names from the df dataframe to the lines dataframe\n",
        "df_lines[\"AwayPitcher\"] = df[\"AwayStartingPitcher\"]\n",
        "df_lines[\"HomePitcher\"] = df[\"HomeStartingPitcher\"]"
      ],
      "execution_count": 0,
      "outputs": []
    },
    {
      "cell_type": "code",
      "metadata": {
        "id": "IBHEpAr7eZ4z",
        "colab_type": "code",
        "outputId": "0711f522-2468-4355-9d92-82bbcd6845c8",
        "colab": {
          "base_uri": "https://localhost:8080/",
          "height": 34
        }
      },
      "source": [
        "type(df_lines[\"US1_Decodds\"][0])"
      ],
      "execution_count": 0,
      "outputs": [
        {
          "output_type": "execute_result",
          "data": {
            "text/plain": [
              "decimal.Decimal"
            ]
          },
          "metadata": {
            "tags": []
          },
          "execution_count": 117
        }
      ]
    },
    {
      "cell_type": "code",
      "metadata": {
        "id": "kwzQ2qlHao4o",
        "colab_type": "code",
        "colab": {}
      },
      "source": [
        "#convert the decimal types to numeric\n",
        "df_lines[\"US2_Decodds\"] = pd.to_numeric(df_lines[\"US2_Decodds\"])\n",
        "df_lines[\"US1_Decodds\"] = pd.to_numeric(df_lines[\"US1_Decodds\"])"
      ],
      "execution_count": 0,
      "outputs": []
    },
    {
      "cell_type": "code",
      "metadata": {
        "id": "lJDtIq-Nfy57",
        "colab_type": "code",
        "colab": {}
      },
      "source": [
        "#work with only the necessary columns\n",
        "df_meanProb = df_lines.drop([\"SpreadTeam1\",\"MoneyUS1\",\"MoneyUS2\",\"EnteredDateTimeET\",\"EnteredDateTimeUTC\",\"SpreadUS1\",\"SpreadUS2\",\"TotalPoints\",\"TotalUSOver\",\"TotalUSUnder\"],axis=1)"
      ],
      "execution_count": 0,
      "outputs": []
    },
    {
      "cell_type": "code",
      "metadata": {
        "id": "UslZKXt_hB51",
        "colab_type": "code",
        "outputId": "03fc09dd-7106-4597-c04d-8510be03f783",
        "colab": {
          "base_uri": "https://localhost:8080/",
          "height": 204
        }
      },
      "source": [
        "df_meanProb.head()"
      ],
      "execution_count": 0,
      "outputs": [
        {
          "output_type": "execute_result",
          "data": {
            "text/html": [
              "<div>\n",
              "<style scoped>\n",
              "    .dataframe tbody tr th:only-of-type {\n",
              "        vertical-align: middle;\n",
              "    }\n",
              "\n",
              "    .dataframe tbody tr th {\n",
              "        vertical-align: top;\n",
              "    }\n",
              "\n",
              "    .dataframe thead th {\n",
              "        text-align: right;\n",
              "    }\n",
              "</style>\n",
              "<table border=\"1\" class=\"dataframe\">\n",
              "  <thead>\n",
              "    <tr style=\"text-align: right;\">\n",
              "      <th></th>\n",
              "      <th>AwayPitcher</th>\n",
              "      <th>HomePitcher</th>\n",
              "      <th>US2_Decodds</th>\n",
              "      <th>US1_Decodds</th>\n",
              "    </tr>\n",
              "  </thead>\n",
              "  <tbody>\n",
              "    <tr>\n",
              "      <th>0</th>\n",
              "      <td>a wainwright</td>\n",
              "      <td>f liriano</td>\n",
              "      <td>1.85</td>\n",
              "      <td>2.09</td>\n",
              "    </tr>\n",
              "    <tr>\n",
              "      <th>1</th>\n",
              "      <td>m stroman</td>\n",
              "      <td>c archer</td>\n",
              "      <td>1.85</td>\n",
              "      <td>2.08</td>\n",
              "    </tr>\n",
              "    <tr>\n",
              "      <th>2</th>\n",
              "      <td>m harvey</td>\n",
              "      <td>e volquez</td>\n",
              "      <td>2.07</td>\n",
              "      <td>1.86</td>\n",
              "    </tr>\n",
              "    <tr>\n",
              "      <th>3</th>\n",
              "      <td>m bumgarner</td>\n",
              "      <td>w peralta</td>\n",
              "      <td>2.55</td>\n",
              "      <td>1.60</td>\n",
              "    </tr>\n",
              "    <tr>\n",
              "      <th>4</th>\n",
              "      <td>e santana</td>\n",
              "      <td>c tillman</td>\n",
              "      <td>1.88</td>\n",
              "      <td>2.05</td>\n",
              "    </tr>\n",
              "  </tbody>\n",
              "</table>\n",
              "</div>"
            ],
            "text/plain": [
              "    AwayPitcher HomePitcher  US2_Decodds  US1_Decodds\n",
              "0  a wainwright   f liriano         1.85         2.09\n",
              "1     m stroman    c archer         1.85         2.08\n",
              "2      m harvey   e volquez         2.07         1.86\n",
              "3   m bumgarner   w peralta         2.55         1.60\n",
              "4     e santana   c tillman         1.88         2.05"
            ]
          },
          "metadata": {
            "tags": []
          },
          "execution_count": 129
        }
      ]
    },
    {
      "cell_type": "code",
      "metadata": {
        "id": "I8W9le8EkgJd",
        "colab_type": "code",
        "colab": {}
      },
      "source": [
        "#split into 2 df\n",
        "df_prob = df_meanProb[[\"AwayPitcher\",\"US1_Decodds\"]].copy()\n",
        "df_probH = df_meanProb[[\"HomePitcher\",\"US2_Decodds\"]].copy()"
      ],
      "execution_count": 0,
      "outputs": []
    },
    {
      "cell_type": "code",
      "metadata": {
        "id": "4GwnnBgPsjwM",
        "colab_type": "code",
        "colab": {}
      },
      "source": [
        "#rename columns to concatanate\n",
        "df_prob.columns = [\"Pitcher\",\"Odds\"]\n",
        "df_probH.columns = [\"Pitcher\",\"Odds\"]"
      ],
      "execution_count": 0,
      "outputs": []
    },
    {
      "cell_type": "code",
      "metadata": {
        "id": "0V5L40j0rZvl",
        "colab_type": "code",
        "outputId": "1f02d85b-1ae1-4cad-8289-ef215d2fe917",
        "colab": {
          "base_uri": "https://localhost:8080/",
          "height": 1000
        }
      },
      "source": [
        "(df_prob.groupby(\"Pitcher\").mean()).sort_values(\"Odds\",ascending=False)"
      ],
      "execution_count": 0,
      "outputs": [
        {
          "output_type": "execute_result",
          "data": {
            "text/html": [
              "<div>\n",
              "<style scoped>\n",
              "    .dataframe tbody tr th:only-of-type {\n",
              "        vertical-align: middle;\n",
              "    }\n",
              "\n",
              "    .dataframe tbody tr th {\n",
              "        vertical-align: top;\n",
              "    }\n",
              "\n",
              "    .dataframe thead th {\n",
              "        text-align: right;\n",
              "    }\n",
              "</style>\n",
              "<table border=\"1\" class=\"dataframe\">\n",
              "  <thead>\n",
              "    <tr style=\"text-align: right;\">\n",
              "      <th></th>\n",
              "      <th>Odds</th>\n",
              "    </tr>\n",
              "    <tr>\n",
              "      <th>Pitcher</th>\n",
              "      <th></th>\n",
              "    </tr>\n",
              "  </thead>\n",
              "  <tbody>\n",
              "    <tr>\n",
              "      <th>c bergman</th>\n",
              "      <td>3.740000</td>\n",
              "    </tr>\n",
              "    <tr>\n",
              "      <th>e escobar</th>\n",
              "      <td>3.540000</td>\n",
              "    </tr>\n",
              "    <tr>\n",
              "      <th>j smith</th>\n",
              "      <td>3.460000</td>\n",
              "    </tr>\n",
              "    <tr>\n",
              "      <th>m koch</th>\n",
              "      <td>3.280000</td>\n",
              "    </tr>\n",
              "    <tr>\n",
              "      <th>b mitchell</th>\n",
              "      <td>3.065000</td>\n",
              "    </tr>\n",
              "    <tr>\n",
              "      <th>p dean</th>\n",
              "      <td>3.057500</td>\n",
              "    </tr>\n",
              "    <tr>\n",
              "      <th>a blair</th>\n",
              "      <td>3.051429</td>\n",
              "    </tr>\n",
              "    <tr>\n",
              "      <th>r stephenson</th>\n",
              "      <td>3.023333</td>\n",
              "    </tr>\n",
              "    <tr>\n",
              "      <th>z eflin</th>\n",
              "      <td>3.022857</td>\n",
              "    </tr>\n",
              "    <tr>\n",
              "      <th>t jungmann</th>\n",
              "      <td>3.006667</td>\n",
              "    </tr>\n",
              "    <tr>\n",
              "      <th>a ranaudo</th>\n",
              "      <td>2.960000</td>\n",
              "    </tr>\n",
              "    <tr>\n",
              "      <th>r weber</th>\n",
              "      <td>2.945000</td>\n",
              "    </tr>\n",
              "    <tr>\n",
              "      <th>r alcantara</th>\n",
              "      <td>2.910000</td>\n",
              "    </tr>\n",
              "    <tr>\n",
              "      <th>a asher</th>\n",
              "      <td>2.900000</td>\n",
              "    </tr>\n",
              "    <tr>\n",
              "      <th>j lamb</th>\n",
              "      <td>2.891667</td>\n",
              "    </tr>\n",
              "    <tr>\n",
              "      <th>e jackson</th>\n",
              "      <td>2.873333</td>\n",
              "    </tr>\n",
              "    <tr>\n",
              "      <th>z neal</th>\n",
              "      <td>2.840000</td>\n",
              "    </tr>\n",
              "    <tr>\n",
              "      <th>j moscot</th>\n",
              "      <td>2.796667</td>\n",
              "    </tr>\n",
              "    <tr>\n",
              "      <th>m wisler</th>\n",
              "      <td>2.787000</td>\n",
              "    </tr>\n",
              "    <tr>\n",
              "      <th>l harrell</th>\n",
              "      <td>2.770000</td>\n",
              "    </tr>\n",
              "    <tr>\n",
              "      <th>n martinez</th>\n",
              "      <td>2.756667</td>\n",
              "    </tr>\n",
              "    <tr>\n",
              "      <th>l perdomo</th>\n",
              "      <td>2.752500</td>\n",
              "    </tr>\n",
              "    <tr>\n",
              "      <th>a albers</th>\n",
              "      <td>2.750000</td>\n",
              "    </tr>\n",
              "    <tr>\n",
              "      <th>j thompson</th>\n",
              "      <td>2.747500</td>\n",
              "    </tr>\n",
              "    <tr>\n",
              "      <th>w peralta</th>\n",
              "      <td>2.741000</td>\n",
              "    </tr>\n",
              "    <tr>\n",
              "      <th>t jenkins</th>\n",
              "      <td>2.724000</td>\n",
              "    </tr>\n",
              "    <tr>\n",
              "      <th>t adleman</th>\n",
              "      <td>2.713333</td>\n",
              "    </tr>\n",
              "    <tr>\n",
              "      <th>a simon</th>\n",
              "      <td>2.712000</td>\n",
              "    </tr>\n",
              "    <tr>\n",
              "      <th>y petit</th>\n",
              "      <td>2.700000</td>\n",
              "    </tr>\n",
              "    <tr>\n",
              "      <th>c vargas</th>\n",
              "      <td>2.687500</td>\n",
              "    </tr>\n",
              "    <tr>\n",
              "      <th>...</th>\n",
              "      <td>...</td>\n",
              "    </tr>\n",
              "    <tr>\n",
              "      <th>y darvish</th>\n",
              "      <td>1.858571</td>\n",
              "    </tr>\n",
              "    <tr>\n",
              "      <th>ja happ</th>\n",
              "      <td>1.856667</td>\n",
              "    </tr>\n",
              "    <tr>\n",
              "      <th>c sale</th>\n",
              "      <td>1.851765</td>\n",
              "    </tr>\n",
              "    <tr>\n",
              "      <th>t williams</th>\n",
              "      <td>1.850000</td>\n",
              "    </tr>\n",
              "    <tr>\n",
              "      <th>t blach</th>\n",
              "      <td>1.830000</td>\n",
              "    </tr>\n",
              "    <tr>\n",
              "      <th>r porcello</th>\n",
              "      <td>1.829444</td>\n",
              "    </tr>\n",
              "    <tr>\n",
              "      <th>j happ</th>\n",
              "      <td>1.826000</td>\n",
              "    </tr>\n",
              "    <tr>\n",
              "      <th>k maeda</th>\n",
              "      <td>1.818333</td>\n",
              "    </tr>\n",
              "    <tr>\n",
              "      <th>n syndergaard</th>\n",
              "      <td>1.817857</td>\n",
              "    </tr>\n",
              "    <tr>\n",
              "      <th>j fernandez</th>\n",
              "      <td>1.798462</td>\n",
              "    </tr>\n",
              "    <tr>\n",
              "      <th>d salazar</th>\n",
              "      <td>1.798462</td>\n",
              "    </tr>\n",
              "    <tr>\n",
              "      <th>m bumgarner</th>\n",
              "      <td>1.789444</td>\n",
              "    </tr>\n",
              "    <tr>\n",
              "      <th>d keuchel</th>\n",
              "      <td>1.773571</td>\n",
              "    </tr>\n",
              "    <tr>\n",
              "      <th>c kluber</th>\n",
              "      <td>1.753333</td>\n",
              "    </tr>\n",
              "    <tr>\n",
              "      <th>c carrasco</th>\n",
              "      <td>1.751667</td>\n",
              "    </tr>\n",
              "    <tr>\n",
              "      <th>j lackey</th>\n",
              "      <td>1.748667</td>\n",
              "    </tr>\n",
              "    <tr>\n",
              "      <th>n stroman</th>\n",
              "      <td>1.745000</td>\n",
              "    </tr>\n",
              "    <tr>\n",
              "      <th>b anderson</th>\n",
              "      <td>1.730000</td>\n",
              "    </tr>\n",
              "    <tr>\n",
              "      <th>s strasburg</th>\n",
              "      <td>1.726000</td>\n",
              "    </tr>\n",
              "    <tr>\n",
              "      <th>m montgomery</th>\n",
              "      <td>1.720000</td>\n",
              "    </tr>\n",
              "    <tr>\n",
              "      <th>k hendricks</th>\n",
              "      <td>1.716471</td>\n",
              "    </tr>\n",
              "    <tr>\n",
              "      <th>j de leon</th>\n",
              "      <td>1.715000</td>\n",
              "    </tr>\n",
              "    <tr>\n",
              "      <th>b mccarthy</th>\n",
              "      <td>1.706667</td>\n",
              "    </tr>\n",
              "    <tr>\n",
              "      <th>d price</th>\n",
              "      <td>1.698421</td>\n",
              "    </tr>\n",
              "    <tr>\n",
              "      <th>j lester</th>\n",
              "      <td>1.622632</td>\n",
              "    </tr>\n",
              "    <tr>\n",
              "      <th>j buchanan</th>\n",
              "      <td>1.620000</td>\n",
              "    </tr>\n",
              "    <tr>\n",
              "      <th>j arrieta</th>\n",
              "      <td>1.589474</td>\n",
              "    </tr>\n",
              "    <tr>\n",
              "      <th>c kershaw</th>\n",
              "      <td>1.572143</td>\n",
              "    </tr>\n",
              "    <tr>\n",
              "      <th>m scherzer</th>\n",
              "      <td>1.570000</td>\n",
              "    </tr>\n",
              "    <tr>\n",
              "      <th>jde leon</th>\n",
              "      <td>1.540000</td>\n",
              "    </tr>\n",
              "  </tbody>\n",
              "</table>\n",
              "<p>296 rows × 1 columns</p>\n",
              "</div>"
            ],
            "text/plain": [
              "                   Odds\n",
              "Pitcher                \n",
              "c bergman      3.740000\n",
              "e escobar      3.540000\n",
              "j smith        3.460000\n",
              "m koch         3.280000\n",
              "b mitchell     3.065000\n",
              "p dean         3.057500\n",
              "a blair        3.051429\n",
              "r stephenson   3.023333\n",
              "z eflin        3.022857\n",
              "t jungmann     3.006667\n",
              "a ranaudo      2.960000\n",
              "r weber        2.945000\n",
              "r alcantara    2.910000\n",
              "a asher        2.900000\n",
              "j lamb         2.891667\n",
              "e jackson      2.873333\n",
              "z neal         2.840000\n",
              "j moscot       2.796667\n",
              "m wisler       2.787000\n",
              "l harrell      2.770000\n",
              "n martinez     2.756667\n",
              "l perdomo      2.752500\n",
              "a albers       2.750000\n",
              "j thompson     2.747500\n",
              "w peralta      2.741000\n",
              "t jenkins      2.724000\n",
              "t adleman      2.713333\n",
              "a simon        2.712000\n",
              "y petit        2.700000\n",
              "c vargas       2.687500\n",
              "...                 ...\n",
              "y darvish      1.858571\n",
              "ja happ        1.856667\n",
              "c sale         1.851765\n",
              "t williams     1.850000\n",
              "t blach        1.830000\n",
              "r porcello     1.829444\n",
              "j happ         1.826000\n",
              "k maeda        1.818333\n",
              "n syndergaard  1.817857\n",
              "j fernandez    1.798462\n",
              "d salazar      1.798462\n",
              "m bumgarner    1.789444\n",
              "d keuchel      1.773571\n",
              "c kluber       1.753333\n",
              "c carrasco     1.751667\n",
              "j lackey       1.748667\n",
              "n stroman      1.745000\n",
              "b anderson     1.730000\n",
              "s strasburg    1.726000\n",
              "m montgomery   1.720000\n",
              "k hendricks    1.716471\n",
              "j de leon      1.715000\n",
              "b mccarthy     1.706667\n",
              "d price        1.698421\n",
              "j lester       1.622632\n",
              "j buchanan     1.620000\n",
              "j arrieta      1.589474\n",
              "c kershaw      1.572143\n",
              "m scherzer     1.570000\n",
              "jde leon       1.540000\n",
              "\n",
              "[296 rows x 1 columns]"
            ]
          },
          "metadata": {
            "tags": []
          },
          "execution_count": 176
        }
      ]
    },
    {
      "cell_type": "markdown",
      "metadata": {
        "id": "bH8C7Yef5VUd",
        "colab_type": "text"
      },
      "source": [
        "The probability of the home team winning actually decreases as time goes on. "
      ]
    },
    {
      "cell_type": "code",
      "metadata": {
        "id": "LkYQS-WUbZnc",
        "colab_type": "code",
        "colab": {}
      },
      "source": [
        ""
      ],
      "execution_count": 0,
      "outputs": []
    }
  ]
}